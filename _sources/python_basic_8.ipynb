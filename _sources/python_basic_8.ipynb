{
 "cells": [
  {
   "cell_type": "markdown",
   "metadata": {},
   "source": [
    "(ch:modules)=\n",
    "# 모듈"
   ]
  },
  {
   "cell_type": "markdown",
   "metadata": {},
   "source": [
    "**모듈**<font size='2'>module</font>은 이미 선언된 함수, 변수, 클래스의 정의가\n",
    "포함된 소스코드 파일이며, 파일명의 확장자는 `.py`이다.\n",
    "아래 세 모듈의 이용하여 모듈에 포함된 함수, 변수 등을 활용하는 일반적인 방법을 소개한다.\n",
    "\n",
    "- `time` 모듈: 시간과 관련된 유용한 함수 제공\n",
    "- `random` 모듈: 무작위로 수를 생성하고 계산하는 다양한 함수 제공\n",
    "- `math` 모듈: 수학에서 많이 활용되는 다양한 함수와 상수 제공"
   ]
  },
  {
   "cell_type": "markdown",
   "metadata": {},
   "source": [
    "모듈 사용법은 다음 세 가지 방식 중에서 하나를 필요에 따라 선택하면 된다.\n",
    "\n",
    "- `import 모듈명`\n",
    "- `from 모듈명 import ...`\n",
    "- `import 모듈명 as 모듈별칭`"
   ]
  },
  {
   "cell_type": "markdown",
   "metadata": {},
   "source": [
    "## 모듈 활용법 1: `import 모듈명`"
   ]
  },
  {
   "cell_type": "markdown",
   "metadata": {},
   "source": [
    "`time` 모듈은 시간과 관련된 유용한 함수를 제공한다.\n",
    "여기서는 `sleep()`, `time()`, `ctime()` 함수의 간단한 사용법을 소개한다."
   ]
  },
  {
   "cell_type": "markdown",
   "metadata": {},
   "source": [
    "**`time.sleep()` 함수**"
   ]
  },
  {
   "cell_type": "markdown",
   "metadata": {},
   "source": [
    "`time` 모듈의 `sleep()` 함수는 초 단위로 지정된 정수 인자와 함께 호출되면\n",
    "파이썬 실행기를 지정된 시간만큼 작동을 멈추게 한다.\n",
    "예를 들어 아래 코드는 0부터 4까지의 정수를 1초에 하나씩 출력한다."
   ]
  },
  {
   "cell_type": "code",
   "execution_count": 8,
   "metadata": {},
   "outputs": [],
   "source": [
    "import time"
   ]
  },
  {
   "cell_type": "code",
   "execution_count": 9,
   "metadata": {},
   "outputs": [
    {
     "name": "stdout",
     "output_type": "stream",
     "text": [
      "0, 1, 2, 3, 4, "
     ]
    }
   ],
   "source": [
    "for sec in range(5):\n",
    "    print(sec, end=\", \")\n",
    "    time.sleep(1)"
   ]
  },
  {
   "cell_type": "markdown",
   "metadata": {},
   "source": [
    "**`time.time()` 함수**"
   ]
  },
  {
   "cell_type": "markdown",
   "metadata": {},
   "source": [
    "`time` 모듈의 `time()` 함수는 인자없이 호출되면 \n",
    "컴퓨터 시간의 시작시점부터 흐른 시간을 부동소수점으로 반환한다."
   ]
  },
  {
   "cell_type": "code",
   "execution_count": 10,
   "metadata": {},
   "outputs": [
    {
     "data": {
      "text/plain": [
       "1708347159.6067524"
      ]
     },
     "execution_count": 10,
     "metadata": {},
     "output_type": "execute_result"
    }
   ],
   "source": [
    "time.time()"
   ]
  },
  {
   "cell_type": "markdown",
   "metadata": {},
   "source": [
    "**`time.ctime()` 함수**"
   ]
  },
  {
   "cell_type": "markdown",
   "metadata": {},
   "source": [
    "`ctime()` 함수는 인자없이 호출되면 현재 시각을 서양식으로 보여준다."
   ]
  },
  {
   "cell_type": "code",
   "execution_count": 11,
   "metadata": {},
   "outputs": [
    {
     "data": {
      "text/plain": [
       "'Mon Feb 19 21:52:39 2024'"
      ]
     },
     "execution_count": 11,
     "metadata": {},
     "output_type": "execute_result"
    }
   ],
   "source": [
    "time.ctime()"
   ]
  },
  {
   "cell_type": "markdown",
   "metadata": {},
   "source": [
    "`ctime()` 함수는 또한 부동소수점과 함께 호출되면\n",
    "인자로 지정된 부동소수점을 컴퓨터 시간의 기원부터 흐른 시간에\n",
    "해당하는 시각을 서양식으로 보여준다."
   ]
  },
  {
   "cell_type": "code",
   "execution_count": 12,
   "metadata": {},
   "outputs": [
    {
     "data": {
      "text/plain": [
       "'Mon Feb 19 21:52:39 2024'"
      ]
     },
     "execution_count": 12,
     "metadata": {},
     "output_type": "execute_result"
    }
   ],
   "source": [
    "t = time.time()\n",
    "time.ctime(t)"
   ]
  },
  {
   "cell_type": "markdown",
   "metadata": {},
   "source": [
    "`ctime()` 함수의 인자를 0으로 지정한 후에 호출하면 컴퓨터 시간의 시작시점을 확인할 수 있다."
   ]
  },
  {
   "cell_type": "code",
   "execution_count": 13,
   "metadata": {},
   "outputs": [
    {
     "data": {
      "text/plain": [
       "'Thu Jan  1 09:00:00 1970'"
      ]
     },
     "execution_count": 13,
     "metadata": {},
     "output_type": "execute_result"
    }
   ],
   "source": [
    "time.ctime(0)"
   ]
  },
  {
   "cell_type": "markdown",
   "metadata": {},
   "source": [
    "리눅스 등 UNIX 계열의 컴퓨터는 1970년 1월 1일을 컴퓨터 시간의 기원으로 사용한다.\n",
    "반면에 윈도우 계열의 컴퓨터는 1601년 1월 1일을 컴퓨터 시간의 기원으로 사용한다.\n",
    "위 코드의 결과는 1970년 1월 1일 0시가 아니라 오전 9시를 보여준다.\n",
    "하지만 이는 한국시간으로 변환된 시간이며\n",
    "그리니치 표준시, 즉 영국 시간으로는 1970년 1월 1일 0시를 가리킨다."
   ]
  },
  {
   "cell_type": "markdown",
   "metadata": {},
   "source": [
    "## 모듈 활용법 2: `from 모듈명 import ...`"
   ]
  },
  {
   "cell_type": "markdown",
   "metadata": {},
   "source": [
    "예를 들어 1부터 5까지의 정수 중에서 무작위로 하나의 정수를 계산하는\n",
    "함수가 필요할 때 `random` 모듈의 `randint()` 함수를 활용할 수 있다.\n",
    "이를 위해 먼저 `random` 모듈을 불러온다."
   ]
  },
  {
   "cell_type": "code",
   "execution_count": 1,
   "metadata": {},
   "outputs": [],
   "source": [
    "import random"
   ]
  },
  {
   "cell_type": "markdown",
   "metadata": {},
   "source": [
    "이제 `randint()` 함수를 다음과 같이 호출할 때마다 1부터 5까지의 정수 중에서 \n",
    "하나의 정수가 무작위로 반환된다."
   ]
  },
  {
   "cell_type": "code",
   "execution_count": 2,
   "metadata": {},
   "outputs": [
    {
     "data": {
      "text/plain": [
       "5"
      ]
     },
     "execution_count": 2,
     "metadata": {},
     "output_type": "execute_result"
    }
   ],
   "source": [
    "random.randint(1, 5)"
   ]
  },
  {
   "cell_type": "code",
   "execution_count": 3,
   "metadata": {},
   "outputs": [
    {
     "data": {
      "text/plain": [
       "3"
      ]
     },
     "execution_count": 3,
     "metadata": {},
     "output_type": "execute_result"
    }
   ],
   "source": [
    "random.randint(1, 5)"
   ]
  },
  {
   "cell_type": "markdown",
   "metadata": {},
   "source": [
    "그리고 `random` 모듈의 `random()` 함수는 구간 `[0, 1)`, 즉 0 이상, 1 미만 사이의 구간에서 무작위로 하나의 부동소수점을\n",
    "생성한다.\n",
    "아래 코드는 `random()` 모듈을 세 번 호출할 때마다 매번 무작위로 새로운 부동소수점이\n",
    "생성됨을 보여준다."
   ]
  },
  {
   "cell_type": "code",
   "execution_count": 4,
   "metadata": {},
   "outputs": [
    {
     "name": "stdout",
     "output_type": "stream",
     "text": [
      "0.8397274817569601\n",
      "0.88477919392369\n",
      "0.9920595479127735\n"
     ]
    }
   ],
   "source": [
    "for i in range(3):\n",
    "    print(random.random())"
   ]
  },
  {
   "cell_type": "markdown",
   "metadata": {},
   "source": [
    "즉 모듈에 포함된 함수를 사용하려면 점을 사이에 두고 모듈 이름과 함수를 함께 표현한다."
   ]
  },
  {
   "cell_type": "markdown",
   "metadata": {},
   "source": [
    ":::{admonition} `random` 모듈과 `random()` 함수\n",
    ":class: note\n",
    "\n",
    "함수와 모듈의 이름이 동일하기에 구분을 위해서라도 \n",
    "함수에는 항상 소괄호 `()`를 의도적으로 붙여서 함수임을 강조한다.\n",
    ":::"
   ]
  },
  {
   "cell_type": "markdown",
   "metadata": {},
   "source": [
    "**`random.seed()` 함수**"
   ]
  },
  {
   "cell_type": "markdown",
   "metadata": {},
   "source": [
    "`random` 모듈에 포함된 함수들은 기본적으로 호출될 때마다 무작위로 수를 생성하기에\n",
    "호출될 때마다 다른 값을 반환한다.\n",
    "실제로는 파이썬 실행기가 무작위 수 생성 기능의 사용 횟수에 따라\n",
    "함수가 반환해야 하는 값을 차례대로 지정한다.\n",
    "\n",
    "따라서 무작위로 수를 생성하는 함수를 실행할 때마다 동일한 값이 생성되도록 하려면\n",
    "무작위수 생성 기능의 사용 횟수를 초기화하면 된다.\n",
    "이를 위해 `random.seed()` 함수를 이용한다.\n",
    "인자는 0보다 같거나 큰 정수가 사용된다.\n",
    "예를 들어 아래 코드는 무작위수 생성 기능이 17번 사용되었다고 가정하도록 한다."
   ]
  },
  {
   "cell_type": "code",
   "execution_count": 5,
   "metadata": {},
   "outputs": [],
   "source": [
    "random.seed(17)"
   ]
  },
  {
   "cell_type": "markdown",
   "metadata": {},
   "source": [
    "`random.seed()` 함수와 함께 `random` 모듈의 함수를 호출하면 항상 동일한 결과를 얻는다.\n",
    "아래 코드는 `random.seed()` 함수를 이용하면\n",
    "매번 동일한 결과가 나온다는 사실을 보여준다."
   ]
  },
  {
   "cell_type": "code",
   "execution_count": 6,
   "metadata": {},
   "outputs": [
    {
     "name": "stdout",
     "output_type": "stream",
     "text": [
      "0.5219839097124932\n",
      "0.5219839097124932\n",
      "0.5219839097124932\n"
     ]
    }
   ],
   "source": [
    "for i in range(3):\n",
    "    random.seed(17)\n",
    "    print(random.random())"
   ]
  },
  {
   "cell_type": "markdown",
   "metadata": {},
   "source": [
    "`random.seed()` 함수의 인자를 달리하면 다른 결과를 얻는다."
   ]
  },
  {
   "cell_type": "code",
   "execution_count": 7,
   "metadata": {},
   "outputs": [
    {
     "name": "stdout",
     "output_type": "stream",
     "text": [
      "0.8444218515250481\n",
      "0.8444218515250481\n",
      "0.8444218515250481\n"
     ]
    }
   ],
   "source": [
    "for i in range(3):\n",
    "    random.seed(0)\n",
    "    print(random.random())"
   ]
  },
  {
   "cell_type": "markdown",
   "metadata": {},
   "source": [
    "그런데 만약 `randint()` 함수를 자주 사용한다면\n",
    "`random.randint()`처럼 \n",
    "매번 `random` 모듈명과 함께 호출하는 게 불편할 수 있다.\n",
    "그런 경우 `from ... import ...` 명령문을 사용하면 보다 편리하게\n",
    "자주 활용하는 함수를 호출할 수 있다.\n",
    "예를 들어 아래 코드는 `random` 모듈에서 `randint()` 함수와 `seed()` 함수만 따로 불러온다."
   ]
  },
  {
   "cell_type": "code",
   "execution_count": 10,
   "metadata": {},
   "outputs": [],
   "source": [
    "from random import randint, seed"
   ]
  },
  {
   "cell_type": "markdown",
   "metadata": {},
   "source": [
    "그러면 모듈명 없이 `randint()` 함수를 사용할 수 있다."
   ]
  },
  {
   "cell_type": "code",
   "execution_count": 15,
   "metadata": {},
   "outputs": [
    {
     "name": "stdout",
     "output_type": "stream",
     "text": [
      "74\n",
      "5\n",
      "55\n"
     ]
    }
   ],
   "source": [
    "seed(10)\n",
    "\n",
    "for i in range(3):\n",
    "    print(randint(1, 100))"
   ]
  },
  {
   "cell_type": "markdown",
   "metadata": {},
   "source": [
    "반면에 `random` 모듈의 다른 함수는 항상 모델명과 함께 사용해야 한다.\n",
    "그렇지 않으면 아래처럼 \n",
    "함수가 정의되지 않았다는 의미의 `NameError` 오류가 발생한다."
   ]
  },
  {
   "cell_type": "code",
   "execution_count": 16,
   "metadata": {},
   "outputs": [
    {
     "ename": "NameError",
     "evalue": "name 'random' is not defined",
     "output_type": "error",
     "traceback": [
      "\u001b[0;31m---------------------------------------------------------------------------\u001b[0m",
      "\u001b[0;31mNameError\u001b[0m                                 Traceback (most recent call last)",
      "Cell \u001b[0;32mIn[16], line 1\u001b[0m\n\u001b[0;32m----> 1\u001b[0m random()\n",
      "\u001b[0;31mNameError\u001b[0m: name 'random' is not defined"
     ]
    }
   ],
   "source": [
    "random()"
   ]
  },
  {
   "cell_type": "markdown",
   "metadata": {},
   "source": [
    "## 모듈 활용법 3: `import 모듈명 as 모듈별칭`"
   ]
  },
  {
   "cell_type": "markdown",
   "metadata": {},
   "source": [
    "수학에서 많이 사용되는 `log`, `sin`, `cos` 등의 함수의 정의는 `math` 모듈에 포함되어 있다.\n",
    "예를 들어 아래 코드는 정수 2의 자연로그값을 계산한다."
   ]
  },
  {
   "cell_type": "code",
   "execution_count": 14,
   "metadata": {},
   "outputs": [
    {
     "data": {
      "text/plain": [
       "0.6931471805599453"
      ]
     },
     "execution_count": 14,
     "metadata": {},
     "output_type": "execute_result"
    }
   ],
   "source": [
    "import math\n",
    "\n",
    "math.log(2)"
   ]
  },
  {
   "cell_type": "markdown",
   "metadata": {},
   "source": [
    "`math` 모듈엔 원주율 `pi`와 같은 중요한 상수도 변수로 정의되어 있으며 사용방법은 동일하다.\n",
    "단 변수는 소괄호 기호가 사용되지 않는다."
   ]
  },
  {
   "cell_type": "code",
   "execution_count": 15,
   "metadata": {},
   "outputs": [
    {
     "data": {
      "text/plain": [
       "3.141592653589793"
      ]
     },
     "execution_count": 15,
     "metadata": {},
     "output_type": "execute_result"
    }
   ],
   "source": [
    "math.pi"
   ]
  },
  {
   "cell_type": "markdown",
   "metadata": {},
   "source": [
    "`sin()`, `cos()` 등의 함수도 제공된다.\n",
    "아래 두 코드는 앞서 언급한 원주율 변수 `math.pi`를 인자로 활용한다."
   ]
  },
  {
   "cell_type": "code",
   "execution_count": 16,
   "metadata": {},
   "outputs": [
    {
     "data": {
      "text/plain": [
       "1.0"
      ]
     },
     "execution_count": 16,
     "metadata": {},
     "output_type": "execute_result"
    }
   ],
   "source": [
    "math.sin(math.pi/2)"
   ]
  },
  {
   "cell_type": "code",
   "execution_count": 17,
   "metadata": {},
   "outputs": [
    {
     "data": {
      "text/plain": [
       "-1.0"
      ]
     },
     "execution_count": 17,
     "metadata": {},
     "output_type": "execute_result"
    }
   ],
   "source": [
    "math.cos(math.pi)"
   ]
  },
  {
   "cell_type": "markdown",
   "metadata": {},
   "source": [
    "그런데 만약에 예를 들어 `log()` 함수와 `pi` 변수를 자주 사용한다면\n",
    "매번 `math.log()`, `math.pi` 등으로 모듈명을 함께 사용하는 일이 귀찮을 수 있다.\n",
    "특히 모듈명이 긴 경우가 그렇다.\n",
    "이럴 때는 모듈명에 보다 간단한 별칭을 대신 지정하여 함수 호출에 활용할 수 있다.\n",
    "예를 들어 아래 코드는 `math` 모듈의 별칭을 `m`으로 지정하면서 불러온다."
   ]
  },
  {
   "cell_type": "code",
   "execution_count": 23,
   "metadata": {},
   "outputs": [],
   "source": [
    "import math as m"
   ]
  },
  {
   "cell_type": "markdown",
   "metadata": {},
   "source": [
    "그러면 `math` 모듈에 포함된 모든 함수와 변수를 `m.log()`, `m.pi` 등으로 사용할 수 있다."
   ]
  },
  {
   "cell_type": "code",
   "execution_count": 24,
   "metadata": {},
   "outputs": [
    {
     "data": {
      "text/plain": [
       "0.6931471805599453"
      ]
     },
     "execution_count": 24,
     "metadata": {},
     "output_type": "execute_result"
    }
   ],
   "source": [
    "m.log(2)"
   ]
  },
  {
   "cell_type": "code",
   "execution_count": 25,
   "metadata": {},
   "outputs": [
    {
     "data": {
      "text/plain": [
       "3.141592653589793"
      ]
     },
     "execution_count": 25,
     "metadata": {},
     "output_type": "execute_result"
    }
   ],
   "source": [
    "m.pi"
   ]
  },
  {
   "cell_type": "code",
   "execution_count": 26,
   "metadata": {},
   "outputs": [
    {
     "data": {
      "text/plain": [
       "1.0"
      ]
     },
     "execution_count": 26,
     "metadata": {},
     "output_type": "execute_result"
    }
   ],
   "source": [
    "m.sin(m.pi/2)"
   ]
  },
  {
   "cell_type": "code",
   "execution_count": 27,
   "metadata": {},
   "outputs": [
    {
     "data": {
      "text/plain": [
       "-1.0"
      ]
     },
     "execution_count": 27,
     "metadata": {},
     "output_type": "execute_result"
    }
   ],
   "source": [
    "m.cos(m.pi)"
   ]
  },
  {
   "cell_type": "markdown",
   "metadata": {},
   "source": [
    "## 파이썬 데이터 분석에 중요한 모듈"
   ]
  },
  {
   "cell_type": "markdown",
   "metadata": {},
   "source": [
    "[Stack Overflow 개발자 설문조사 2023](https://survey.stackoverflow.co/2022/)의 조사 결과에 따르면\n",
    "가장 배우고 싶어하는 10개의 라이브러리는 다음과 같다."
   ]
  },
  {
   "cell_type": "markdown",
   "metadata": {},
   "source": [
    "<div align=\"center\"><img src=\"https://raw.githubusercontent.com/codingalzi/datapy/master/jupyter-book/images/wanted_languages.jpg\" style=\"width:450px\"></div>"
   ]
  },
  {
   "cell_type": "markdown",
   "metadata": {},
   "source": [
    "언급된 라이브러리 중에서 NumPy, Pandas, Tensorflow, Scikit-Learn, Torch/PyTorch는 데이터 분석과 머신러닝 분야에서\n",
    "필수적으로 사용된다.\n",
    "특히 NumPy와 Pandas는 다른 라이브러리의 기초로 활용되기에 무엇보다도 중요하다.\n",
    "\n",
    "앞으로 NumPy 라이브러리가 제공하는 `array` 자료형과 Pandas 라이브러리가 제공하는 `DataFrame`자료형의\n",
    "다양한 메서드를 활용한 데이터 분석의 기초를 다룰 것이다."
   ]
  }
 ],
 "metadata": {
  "kernelspec": {
   "display_name": "Python 3 (ipykernel)",
   "language": "python",
   "name": "python3"
  },
  "language_info": {
   "codemirror_mode": {
    "name": "ipython",
    "version": 3
   },
   "file_extension": ".py",
   "mimetype": "text/x-python",
   "name": "python",
   "nbconvert_exporter": "python",
   "pygments_lexer": "ipython3",
   "version": "3.11.4"
  },
  "vscode": {
   "interpreter": {
    "hash": "6c86b3592b6800d985c04531f2c445f0fa6967131b8dd6395a925f7622e55602"
   }
  }
 },
 "nbformat": 4,
 "nbformat_minor": 1
}
