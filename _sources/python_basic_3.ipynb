{
 "cells": [
  {
   "cell_type": "markdown",
   "metadata": {},
   "source": [
    "(sec:python_basic_3)=\n",
    "# 기초 자료형"
   ]
  },
  {
   "cell_type": "markdown",
   "metadata": {},
   "source": [
    "파이썬은 다양한 기초 자료형을 기본으로 제공하며\n",
    "크게 스칼라 자료형과 모음 자료형으로 나뉜다.\n",
    "\n",
    "정수, 부동 소수점, 부울값(`True`와 `False`), 문자열, 날짜와 시간 등처럼 \n",
    "단일한 값의 자료형이 **스칼라**<font size='2'>scalar</font> 자료형이며, \n",
    "리스트, 튜플, 사전 등은 **모음**<font size='2'>collections</font> 자료형이다.\n",
    "\n",
    "먼저 스칼라 자료형을 살펴 보고 {ref}`sec:python_basic_5`에서 모음 자료형을 소개한다."
   ]
  },
  {
   "cell_type": "markdown",
   "metadata": {},
   "source": [
    ":::{admonition} 문자열 자료형\n",
    ":class: info\n",
    "\n",
    "문자열은 언어에 따라 스칼라 자료형 또는 모음 자료형으로 간주된다.\n",
    "예를 들어, C 언어에서는 문자열(`str`)을 문자(`chr`)로 이루어진 어레이로 정의하기에\n",
    "모음 자료형으로 다뤄야 한다.\n",
    "\n",
    "반면에 파이썬에서는 문자 자료형이 별도로 없다.\n",
    "그리고 문자열을 문자들의 모음으로 간주하기도 한다. \n",
    "이는 모음 자료형이 지원하는 인덱싱, 슬라이싱, `for` 반복문 활용 등을 문자열 자료형 또한 지원하기 때문이다.\n",
    ":::"
   ]
  },
  {
   "cell_type": "markdown",
   "metadata": {},
   "source": [
    "## 정수 자료형: `int`"
   ]
  },
  {
   "cell_type": "markdown",
   "metadata": {},
   "source": [
    "`int`는 정수 자료형이다."
   ]
  },
  {
   "cell_type": "code",
   "execution_count": 1,
   "metadata": {},
   "outputs": [
    {
     "data": {
      "text/plain": [
       "26254519291092456596965462913230729701102721"
      ]
     },
     "execution_count": 1,
     "metadata": {},
     "output_type": "execute_result"
    }
   ],
   "source": [
    "ival = 17239871\n",
    "\n",
    "ival ** 6  # ival의 6승"
   ]
  },
  {
   "cell_type": "markdown",
   "metadata": {},
   "source": [
    "## 부동 소수점 자료형: `float`"
   ]
  },
  {
   "cell_type": "markdown",
   "metadata": {},
   "source": [
    "`float`는 유리수 자료형이다."
   ]
  },
  {
   "cell_type": "code",
   "execution_count": 2,
   "metadata": {},
   "outputs": [],
   "source": [
    "fval = 7.243"
   ]
  },
  {
   "cell_type": "markdown",
   "metadata": {},
   "source": [
    "나눗셈은 부동 소수점으로 계산된다."
   ]
  },
  {
   "cell_type": "code",
   "execution_count": 4,
   "metadata": {},
   "outputs": [
    {
     "data": {
      "text/plain": [
       "1.5"
      ]
     },
     "execution_count": 4,
     "metadata": {},
     "output_type": "execute_result"
    }
   ],
   "source": [
    "3 / 2"
   ]
  },
  {
   "cell_type": "markdown",
   "metadata": {},
   "source": [
    "몫은 정수형으로 계산된다."
   ]
  },
  {
   "cell_type": "code",
   "execution_count": 5,
   "metadata": {},
   "outputs": [
    {
     "data": {
      "text/plain": [
       "1"
      ]
     },
     "execution_count": 5,
     "metadata": {},
     "output_type": "execute_result"
    }
   ],
   "source": [
    "3 // 2"
   ]
  },
  {
   "cell_type": "markdown",
   "metadata": {},
   "source": [
    "과학자들이 사용하는 표기법도 사용할 수 있다."
   ]
  },
  {
   "cell_type": "code",
   "execution_count": null,
   "metadata": {},
   "outputs": [
    {
     "data": {
      "text/plain": [
       "6.78e-05"
      ]
     },
     "metadata": {},
     "output_type": "display_data"
    }
   ],
   "source": [
    "fval2 = 6.78e-5 # 6.78 곱하기 10의 -5승\n",
    "\n",
    "fval2"
   ]
  },
  {
   "cell_type": "markdown",
   "metadata": {},
   "source": [
    ":::{admonition} 부동 소수점\n",
    ":class: info\n",
    "\n",
    "부동 소수점<font size='2'>floating point</font>이란 표현은\n",
    "컴퓨터가 실수를 유한 소수로 처리할 때\n",
    "소수점 이하를 제대로 다루지 못하기 데서 연유한다.\n",
    "\n",
    "실제로 컴퓨터의 한계로 인해 소수점 이하 특정 자릿수에서 반올림한 결과를\n",
    "이용하여 연산을 수행하기에 무리수 등을 다룰 때 결과에 실제 값과 오차가 발생한다.\n",
    ":::\n"
   ]
  },
  {
   "cell_type": "markdown",
   "metadata": {},
   "source": [
    "## 문자열 자료형: `str`"
   ]
  },
  {
   "cell_type": "markdown",
   "metadata": {},
   "source": [
    "**따옴표**"
   ]
  },
  {
   "cell_type": "markdown",
   "metadata": {},
   "source": [
    "문자열은 작은따옴표(`'`) 또는 큰따옴표(`\"`)를 감싸며,\n",
    "따옴표의 종류는 아무 상관이 없다.\n",
    "단, 동종의 따옴표로 감싸야 한다는 점에 주의해야 한다."
   ]
  },
  {
   "cell_type": "code",
   "execution_count": 6,
   "metadata": {},
   "outputs": [],
   "source": [
    "a = '작은따옴표를 사용하는 문자열'"
   ]
  },
  {
   "cell_type": "code",
   "execution_count": 7,
   "metadata": {},
   "outputs": [],
   "source": [
    "b = \"큰따옴표를 사용하는 문자열\""
   ]
  },
  {
   "cell_type": "markdown",
   "metadata": {},
   "source": [
    "여러 줄로 이루어진 문자열은 삼중 큰따옴표로 감싼다."
   ]
  },
  {
   "cell_type": "code",
   "execution_count": 4,
   "metadata": {},
   "outputs": [],
   "source": [
    "c = \"\"\"여러 줄에 걸친 문자열은\n",
    "삼중 큰따옴표로 감싼다.\n",
    "\"\"\""
   ]
  },
  {
   "cell_type": "markdown",
   "metadata": {},
   "source": [
    "**문자열 메서드**"
   ]
  },
  {
   "cell_type": "markdown",
   "metadata": {},
   "source": [
    "문자열 자료형은 다양한 메서드를 제공한다.\n",
    "예를 들어, 문자열이 몇 줄로 이루어졌는가를 \n",
    "확인하려면 `count()` 메서드를 이용하여 \n",
    "줄바꿈 기호(`\\n`)가 사용된 횟수를 세면 된다."
   ]
  },
  {
   "cell_type": "code",
   "execution_count": 5,
   "metadata": {},
   "outputs": [
    {
     "data": {
      "text/plain": [
       "2"
      ]
     },
     "execution_count": 5,
     "metadata": {},
     "output_type": "execute_result"
    }
   ],
   "source": [
    "c.count('\\n')"
   ]
  },
  {
   "cell_type": "markdown",
   "metadata": {},
   "source": [
    "문자열은 불변<font size='2'>immutable</font> 객체이다.\n",
    "아래 코드는 인덱싱을 이용한 특정 문자의 대체가 허용되지 않음을 보여준다."
   ]
  },
  {
   "cell_type": "markdown",
   "metadata": {},
   "source": [
    "```python\n",
    "In [10]: a[10] = 'f'\n",
    "---------------------------------------------------------------------------\n",
    "TypeError                                 Traceback (most recent call last)\n",
    "<ipython-input-10-2151a30ed055> in <module>\n",
    "----> 1 a[10] = 'f'\n",
    "\n",
    "TypeError: 'str' object does not support item assignment\n",
    "```"
   ]
  },
  {
   "cell_type": "markdown",
   "metadata": {},
   "source": [
    "따라서 `replace()`처럼 문자열을 변경하는 메서드는 새로운 문자열을 생성하는 데에\n",
    "사용된다.\n",
    "\n",
    "아래 코드는 `a`가 가리키는 문자열에서 `작은따옴표`를 `작은 인용부호`로 대체하는\n",
    "새로운 문자열을 생성하는 것을 보여준다. "
   ]
  },
  {
   "cell_type": "code",
   "execution_count": 14,
   "metadata": {},
   "outputs": [
    {
     "data": {
      "text/plain": [
       "'작은따옴표를 사용하는 문자열'"
      ]
     },
     "execution_count": 14,
     "metadata": {},
     "output_type": "execute_result"
    }
   ],
   "source": [
    "d = a.replace('작은따옴포', '작은 인용부호')\n",
    "d"
   ]
  },
  {
   "cell_type": "markdown",
   "metadata": {},
   "source": [
    "변수 `a`가 가리키는 값은 변하지 않았다."
   ]
  },
  {
   "cell_type": "code",
   "execution_count": 15,
   "metadata": {},
   "outputs": [
    {
     "data": {
      "text/plain": [
       "'작은따옴표를 사용하는 문자열'"
      ]
     },
     "execution_count": 15,
     "metadata": {},
     "output_type": "execute_result"
    }
   ],
   "source": [
    "a"
   ]
  },
  {
   "cell_type": "markdown",
   "metadata": {},
   "source": [
    "**`str()` 함수**"
   ]
  },
  {
   "cell_type": "markdown",
   "metadata": {},
   "source": [
    "파이썬 객체를 `str()` 함수를 이용하여 문자열로 변환할 수 있다."
   ]
  },
  {
   "cell_type": "code",
   "execution_count": 16,
   "metadata": {},
   "outputs": [
    {
     "data": {
      "text/plain": [
       "str"
      ]
     },
     "execution_count": 16,
     "metadata": {},
     "output_type": "execute_result"
    }
   ],
   "source": [
    "a = 5.6\n",
    "s = str(a)\n",
    "\n",
    "type(s)"
   ]
  },
  {
   "cell_type": "markdown",
   "metadata": {},
   "source": [
    ":::{admonition} 자료형 `str` 대 함수 `str`\n",
    ":class: info\n",
    "\n",
    "`str`은 문자열 자료형 또는 함수를 가리킬 수 있다.\n",
    "혼동을 피하기 위해 함수로 사용되는 경우 \n",
    "`str()`처럼 괄호를 함께 사용하는 게 좋다.\n",
    ":::"
   ]
  },
  {
   "cell_type": "markdown",
   "metadata": {},
   "source": [
    "**문자열 인덱싱, 슬라이싱**"
   ]
  },
  {
   "cell_type": "markdown",
   "metadata": {},
   "source": [
    "문자열 자료형이 \n",
    "리스트, 튜플 등처럼 일종의 순차 자료형, 즉, 순서가 있는 모음 자료형으로 취급되며,\n",
    "인덱싱, 슬라이싱 기능 등이 모두 지원된다.\n",
    "\n",
    "인덱싱과 슬라이싱 등에 대해서 {ref}`sec:python_basic_5`에서 자세히 다룬다."
   ]
  },
  {
   "cell_type": "code",
   "execution_count": 17,
   "metadata": {},
   "outputs": [],
   "source": [
    "s = 'python'"
   ]
  },
  {
   "cell_type": "code",
   "execution_count": 18,
   "metadata": {},
   "outputs": [
    {
     "data": {
      "text/plain": [
       "'y'"
      ]
     },
     "execution_count": 18,
     "metadata": {},
     "output_type": "execute_result"
    }
   ],
   "source": [
    "s[1]"
   ]
  },
  {
   "cell_type": "code",
   "execution_count": 19,
   "metadata": {},
   "outputs": [
    {
     "data": {
      "text/plain": [
       "'pyt'"
      ]
     },
     "execution_count": 19,
     "metadata": {},
     "output_type": "execute_result"
    }
   ],
   "source": [
    "s[:3]"
   ]
  },
  {
   "cell_type": "markdown",
   "metadata": {},
   "source": [
    "**백슬래시(&bsol;)의 특수 기능**"
   ]
  },
  {
   "cell_type": "markdown",
   "metadata": {},
   "source": [
    ":::{admonition} 백슬래시(&bsol;)와 원화 통화기호(&#8361;)\n",
    ":class: warning\n",
    "\n",
    "윈도우 운영체제의 웹브라우저에서는 백슬래시(&bsol;)가 원화 통화기호(&#8361;) 모양으로 보이지만,\n",
    "동일하게 기능한다.\n",
    ":::"
   ]
  },
  {
   "cell_type": "markdown",
   "metadata": {},
   "source": [
    "역슬래시 문자(&bsol;)는 특수한 기능을 수행한다.\n",
    "예를 들어, 줄바꿈을 의미하는 문자 `\\n`, \n",
    "탭을 의미하는 문자 `\\t` 등에서 역슬래시가 특수한 기능을 수행한다. \n",
    "따라서 역슬래시 자체를 문자열에 포함할 때 조심해야 한다.\n",
    "\n",
    "예를 들어, 아래와 같은 문자열을 사용하려 해보자.\n",
    "\n",
    "```python\n",
    "\"12\\34\"\n",
    "```\n",
    "그런데 그냥 아래와 같이 지정하면 다르게 작동한다."
   ]
  },
  {
   "cell_type": "code",
   "execution_count": 20,
   "metadata": {},
   "outputs": [
    {
     "name": "stdout",
     "output_type": "stream",
     "text": [
      "12\u001c",
      "\n"
     ]
    }
   ],
   "source": [
    "s = '12\\34'\n",
    "\n",
    "print(s)"
   ]
  },
  {
   "cell_type": "markdown",
   "metadata": {},
   "source": [
    "이유는 `\\3`이 특수한 문자를 표현하도록 역슬래시가 기능하기 때문이다.\n",
    "(아래 유니코드 설명 참조)"
   ]
  },
  {
   "cell_type": "code",
   "execution_count": 21,
   "metadata": {},
   "outputs": [
    {
     "name": "stdout",
     "output_type": "stream",
     "text": [
      "\u0003\n"
     ]
    }
   ],
   "source": [
    "s = '\\3'\n",
    "\n",
    "print(s)"
   ]
  },
  {
   "cell_type": "markdown",
   "metadata": {},
   "source": [
    "따라서 `12\\34`로 출력되게 하려면 역슬래시의 기능을 해제해야 하며,\n",
    "그러기 위해 역슬래시를 두 번 적어주면 된다.\n",
    "그러면 첫째 역슬래시 뒤에 나오는 역슬래시의 특수 기능을 해제시킨다."
   ]
  },
  {
   "cell_type": "markdown",
   "metadata": {},
   "source": [
    ":::{admonition} 이스케이프\n",
    ":class: info\n",
    "\n",
    "특정 기능을 작동하지 못하도록 하는 것을 영어로 **이스케이프**(escape)라고 한다.\n",
    "예를 들어, 역슬래시의 특수 기능을 이스케이프 시킨다 라고 말할 수 있다.\n",
    ":::"
   ]
  },
  {
   "cell_type": "code",
   "execution_count": 22,
   "metadata": {},
   "outputs": [
    {
     "name": "stdout",
     "output_type": "stream",
     "text": [
      "12\\34\n"
     ]
    }
   ],
   "source": [
    "s = '12\\\\34'\n",
    "\n",
    "print(s)"
   ]
  },
  {
   "cell_type": "markdown",
   "metadata": {},
   "source": [
    "그런데 문자열 안에 많은 역슬래시가 포함되어 있다면 \n",
    "이런 방식은 매우 불편하다. \n",
    "하지만 문자열 앞에 영어 알파벳 `r`을 추가하면 간단하게 해결된다."
   ]
  },
  {
   "cell_type": "code",
   "execution_count": 23,
   "metadata": {},
   "outputs": [
    {
     "name": "stdout",
     "output_type": "stream",
     "text": [
      "this\\has\\no\\special\\characters\n"
     ]
    }
   ],
   "source": [
    "s = r'this\\has\\no\\special\\characters'\n",
    "\n",
    "print(s)"
   ]
  },
  {
   "cell_type": "markdown",
   "metadata": {},
   "source": [
    "**문자열 연산**"
   ]
  },
  {
   "cell_type": "markdown",
   "metadata": {},
   "source": [
    "두 문자열을 더하면 두 문자열을 이어붙인다."
   ]
  },
  {
   "cell_type": "code",
   "execution_count": 24,
   "metadata": {},
   "outputs": [
    {
     "data": {
      "text/plain": [
       "'this is the first half and this is the second half'"
      ]
     },
     "execution_count": 24,
     "metadata": {},
     "output_type": "execute_result"
    }
   ],
   "source": [
    "a = 'this is the first half '\n",
    "b = 'and this is the second half'\n",
    "\n",
    "a + b"
   ]
  },
  {
   "cell_type": "markdown",
   "metadata": {},
   "source": [
    "문자열과 정수를 곱하면 해당 정수 횟수만큼 복제하여 이어붙인다."
   ]
  },
  {
   "cell_type": "code",
   "execution_count": 18,
   "metadata": {},
   "outputs": [
    {
     "data": {
      "text/plain": [
       "'this is the first half this is the first half '"
      ]
     },
     "execution_count": 18,
     "metadata": {},
     "output_type": "execute_result"
    }
   ],
   "source": [
    "a * 2"
   ]
  },
  {
   "cell_type": "markdown",
   "metadata": {},
   "source": [
    "**문자열 템플릿**"
   ]
  },
  {
   "cell_type": "markdown",
   "metadata": {},
   "source": [
    "문자열 템플릿은 문자열 안에 일부 변하는 값을 지정할 수 있도록 선언된 문자열이다.\n",
    "예를 들어, 아래 문자열 템플릿은 세 개의 값을 임의로 지정할 수 있도록 준비되어 있다."
   ]
  },
  {
   "cell_type": "code",
   "execution_count": 25,
   "metadata": {},
   "outputs": [],
   "source": [
    "template = '{0:.2f} {1:s}는 {2:d} 미국달러에 해당한다.'"
   ]
  },
  {
   "cell_type": "markdown",
   "metadata": {},
   "source": [
    "문자열 템플릿에 지정된 수 만큼의 값을 `format()` 메서드를 이용하여 입력하여\n",
    "새로운 문자열을 생성할 수 있다.\n",
    "단, `format()` 메서드에 사용되는 인자의 순서는 지정된 순서대로 정해져야 한다.\n",
    "\n",
    "예를 들어, `template` 변수가 가리키는 문자열 템플릿의 세 위치에 차례대로\n",
    "부동 소수점, 문자열, 정수를 입력해야 하며, 아래와 같이 \n",
    "차례대로 인자로 사용하면 된다."
   ]
  },
  {
   "cell_type": "code",
   "execution_count": 26,
   "metadata": {},
   "outputs": [
    {
     "data": {
      "text/plain": [
       "'4.56 아르헨티나 페소는 1 미국달러에 해당한다.'"
      ]
     },
     "execution_count": 26,
     "metadata": {},
     "output_type": "execute_result"
    }
   ],
   "source": [
    "template.format(4.5560, '아르헨티나 페소', 1)"
   ]
  },
  {
   "cell_type": "markdown",
   "metadata": {},
   "source": [
    "중괄호 안에 사용된 숫자와 기호의 의미는 다음과 같다.\n",
    "\n",
    "- `0:.2f`는 `format()` 메서드의 첫째 인자인 부동 소수점이 자리하며 소수점 이하 두 자리까지 표기\n",
    "- `1:s`는 `format()` 메서드의 둘째 인자인 문자열이 자리하는 자리\n",
    "- `2:d`는 `format()` 메서드의 셋째 인자인 정수가 위치하는 자리"
   ]
  },
  {
   "cell_type": "markdown",
   "metadata": {},
   "source": [
    "콜론(`:`)을 포함하여 그 이후에 해당하는 부분은 입력될 값들의 자료형을 안내하는 역할을 수행한다.\n",
    "하지만 의무사항은 아니며 다만, 사용되는 값에 대한 정보를 제공하거나\n",
    "아니면 보다 서식을 갖춘 문자열이 출력하도록 사용된다."
   ]
  },
  {
   "cell_type": "code",
   "execution_count": 21,
   "metadata": {},
   "outputs": [
    {
     "data": {
      "text/plain": [
       "'4.556 아르헨티나 페소는 1 미국달러에 해당한다.'"
      ]
     },
     "execution_count": 21,
     "metadata": {},
     "output_type": "execute_result"
    }
   ],
   "source": [
    "template = '{0} {1}는 {2} 미국달러에 해당한다.'\n",
    "\n",
    "template.format(4.5560, '아르헨티나 페소', 1)"
   ]
  },
  {
   "cell_type": "markdown",
   "metadata": {},
   "source": [
    "**f-문자열**"
   ]
  },
  {
   "cell_type": "markdown",
   "metadata": {},
   "source": [
    "`format()` 메서드를 사용하는 대신에 \n",
    "요즘에는 f-문자열을 보다 많이 사용한다.\n",
    "이유는 보다 편리한 사용성 때문이다.\n",
    "f-문자열은 문자열 앞에 영어 알파벳 f를 추가하기만 하면 되며 \n",
    "문자열 안에 변수를 중괄호로 감싸 직접 대입한다. "
   ]
  },
  {
   "cell_type": "code",
   "execution_count": 28,
   "metadata": {},
   "outputs": [],
   "source": [
    "a = 4.5560\n",
    "b = '아르헨티나 페소'\n",
    "c = 1"
   ]
  },
  {
   "cell_type": "code",
   "execution_count": 29,
   "metadata": {},
   "outputs": [
    {
     "data": {
      "text/plain": [
       "'4.556 아르헨티나 페소는 1 미국달러에 해당한다.'"
      ]
     },
     "execution_count": 29,
     "metadata": {},
     "output_type": "execute_result"
    }
   ],
   "source": [
    "template = f'{a} {b}는 {c} 미국달러에 해당한다.'\n",
    "\n",
    "template"
   ]
  },
  {
   "cell_type": "markdown",
   "metadata": {},
   "source": [
    "문자열 템플릿에서처럼 변수가 가리키는 값에 서식을 지정할 수 있다."
   ]
  },
  {
   "cell_type": "code",
   "execution_count": 30,
   "metadata": {},
   "outputs": [
    {
     "data": {
      "text/plain": [
       "'4.56 아르헨티나 페소는 1 미국달러에 해당한다.'"
      ]
     },
     "execution_count": 30,
     "metadata": {},
     "output_type": "execute_result"
    }
   ],
   "source": [
    "template = f'{a:.2f} {b:s}는 {c:d} 미국달러에 해당한다.'\n",
    "\n",
    "template"
   ]
  },
  {
   "cell_type": "markdown",
   "metadata": {},
   "source": [
    "## 유니코드와 바이트"
   ]
  },
  {
   "cell_type": "markdown",
   "metadata": {},
   "source": [
    "**유니코드**<font size='2'>unicode</font>는 순전히 키보드만을 이용하여 문자를 표현하는 코드표 모음집이며 영어 알파벳과 한글을 포함하여 거의 모든 언어의 문자를 지원한다. \n",
    "파이썬 또한 유니코드를 기본적으로 지원한다.\n",
    "\n",
    "반면에 **바이트**<font size='2'>bytes</font>는 \n",
    "문자가 컴퓨터가 이해할 수 있는 형태로 변환된 값이다. \n",
    "유니코드를 바이트로 인코딩(변환, encoding)하는 방식은 일반적으로 **UTF-8** 방식을 따른다.\n",
    "반면에 한글에 특화된 인코딩 방식으로 **EUC-KR**, **CP-949** 등이 있다. \n",
    "따라서 사용하는 웹브라우저에서 한글 또는 특수 문자가 깨져 보이는 경우 언급한 세 가지 인코딩 방식 중 하나로 설정해야 한다. \n",
    "요즘은 UTF-8 인코딩이 대세이지만 다른 인코딩 방식도 존재한다는 사실 정도는 상식으로 알고 있어야 한다."
   ]
  },
  {
   "cell_type": "markdown",
   "metadata": {},
   "source": [
    "예를 들어, 아래는 스페인어(Spanish)를 의미하는 스페인 단어 \"español\"를 가리키는 변수를 선언한다."
   ]
  },
  {
   "cell_type": "code",
   "execution_count": 25,
   "metadata": {},
   "outputs": [
    {
     "data": {
      "text/plain": [
       "'español'"
      ]
     },
     "execution_count": 25,
     "metadata": {},
     "output_type": "execute_result"
    }
   ],
   "source": [
    "val = \"español\"\n",
    "val"
   ]
  },
  {
   "cell_type": "markdown",
   "metadata": {},
   "source": [
    "UTF-8 방식으로 바이트로 인코딩하면 사람은 알아볼 수 없게 된다."
   ]
  },
  {
   "cell_type": "code",
   "execution_count": 26,
   "metadata": {},
   "outputs": [
    {
     "data": {
      "text/plain": [
       "b'espa\\xc3\\xb1ol'"
      ]
     },
     "execution_count": 26,
     "metadata": {},
     "output_type": "execute_result"
    }
   ],
   "source": [
    "val_utf8 = val.encode('utf-8')\n",
    "val_utf8"
   ]
  },
  {
   "cell_type": "markdown",
   "metadata": {},
   "source": [
    "인코딩된 값의 자료형은 `bytes`이다."
   ]
  },
  {
   "cell_type": "code",
   "execution_count": 27,
   "metadata": {},
   "outputs": [
    {
     "data": {
      "text/plain": [
       "bytes"
      ]
     },
     "execution_count": 27,
     "metadata": {},
     "output_type": "execute_result"
    }
   ],
   "source": [
    "type(val_utf8)"
   ]
  },
  {
   "cell_type": "markdown",
   "metadata": {},
   "source": [
    "인코딩 방식을 안다면 유니코드로 디코딩<font size='2'>decoding</font>(변환 되돌리기)할 수 있다."
   ]
  },
  {
   "cell_type": "code",
   "execution_count": 28,
   "metadata": {},
   "outputs": [
    {
     "data": {
      "text/plain": [
       "'español'"
      ]
     },
     "execution_count": 28,
     "metadata": {},
     "output_type": "execute_result"
    }
   ],
   "source": [
    "val_utf8.decode('utf-8')"
   ]
  },
  {
   "cell_type": "markdown",
   "metadata": {},
   "source": [
    ":::{admonition} 파일 객체와 `bytes`\n",
    ":class: info\n",
    "\n",
    "`bytes` 자료형의 객체는 파일<font size='2'>file</font> 다루면서 흔하게 접한다.\n",
    ":::"
   ]
  },
  {
   "cell_type": "markdown",
   "metadata": {},
   "source": [
    "## 부울 자료형: `bool`"
   ]
  },
  {
   "cell_type": "markdown",
   "metadata": {},
   "source": [
    "`True` 또는 `False`로 계산되는 객체(값)이 \n",
    "**부울 자료형** `bool`에 속한다.\n",
    "부울 자료형과 관려된 연산자는 논리곱 연산자 `and`, 논리합 연산자 `or`가 대표적이며,\n",
    "두 연산자의 기능은 일반적으로 알려진 것과 동일하다."
   ]
  },
  {
   "cell_type": "code",
   "execution_count": 31,
   "metadata": {},
   "outputs": [
    {
     "data": {
      "text/plain": [
       "True"
      ]
     },
     "execution_count": 31,
     "metadata": {},
     "output_type": "execute_result"
    }
   ],
   "source": [
    "True and True"
   ]
  },
  {
   "cell_type": "code",
   "execution_count": 32,
   "metadata": {},
   "outputs": [
    {
     "data": {
      "text/plain": [
       "True"
      ]
     },
     "execution_count": 32,
     "metadata": {},
     "output_type": "execute_result"
    }
   ],
   "source": [
    "False or True"
   ]
  },
  {
   "cell_type": "markdown",
   "metadata": {},
   "source": [
    "**비교 연산자**"
   ]
  },
  {
   "cell_type": "markdown",
   "metadata": {},
   "source": [
    "비교 연산의 결과는 모두 부울값이다."
   ]
  },
  {
   "cell_type": "markdown",
   "metadata": {
    "id": "kiu-HeyqX05B"
   },
   "source": [
    "| 비교 연산자 | 설명 |\n",
    "| ---: | :--- |\n",
    "| a == b | a와 b가 동일한 값을 가리키는지 여부 판단|\n",
    "| a != b | a와 b가 서로 다른 값을 가리키는지 여부 판단|\n",
    "| a < b | a가 b보다 작은지 여부 판단|\n",
    "| a <= b | a가 b보다 작거나 같은지 여부 판단|\n",
    "| a > b | a가 b보다 큰지 여부 판단|\n",
    "| a >= b | a가 b보다 크거나 같은지 여부 판단|\n",
    "| a is b | a와 b가 동일한 위치에 저장된 값을 참조하는지 여부 판단|\n",
    "| a is not b | a와 b가 다른 위치에 저정된 값을 참조하는지 여부 판단|"
   ]
  },
  {
   "cell_type": "markdown",
   "metadata": {},
   "source": [
    "세 개의 수가 주어졌을 때 양수가 최소 하나라도 있는 경우에만 `True`를 출력하도록 하는 코드는 다음과 같다."
   ]
  },
  {
   "cell_type": "code",
   "execution_count": 36,
   "metadata": {},
   "outputs": [
    {
     "name": "stdout",
     "output_type": "stream",
     "text": [
      "True\n"
     ]
    }
   ],
   "source": [
    "a = -23\n",
    "b = -7\n",
    "c = 1\n",
    "\n",
    "if a > 0 or b > 0 or not c <= 0:\n",
    "    print(True)\n",
    "else:\n",
    "    print(False)"
   ]
  },
  {
   "cell_type": "markdown",
   "metadata": {},
   "source": [
    "이에 더해 문자열, 리스트, 튜플, 사전 등 모음 자료형에 특정 값을 포함하는지 여부를 \n",
    "판단하는 `in` 연산자도 부울 자료형을 생성한다."
   ]
  },
  {
   "cell_type": "code",
   "execution_count": 33,
   "metadata": {
    "executionInfo": {
     "elapsed": 1243,
     "status": "ok",
     "timestamp": 1615199885293,
     "user": {
      "displayName": "",
      "photoUrl": "",
      "userId": ""
     },
     "user_tz": -540
    },
    "id": "2aOiw5tHX05B"
   },
   "outputs": [
    {
     "data": {
      "text/plain": [
       "True"
      ]
     },
     "execution_count": 33,
     "metadata": {},
     "output_type": "execute_result"
    }
   ],
   "source": [
    "a = [1, 2, 3]\n",
    "b = 3\n",
    "\n",
    "b in a"
   ]
  },
  {
   "cell_type": "markdown",
   "metadata": {},
   "source": [
    "`not in`은 `in`과 정반대 결과를 낸다."
   ]
  },
  {
   "cell_type": "code",
   "execution_count": 35,
   "metadata": {},
   "outputs": [
    {
     "data": {
      "text/plain": [
       "True"
      ]
     },
     "execution_count": 35,
     "metadata": {},
     "output_type": "execute_result"
    }
   ],
   "source": [
    "(b in a) and (4 not in a)"
   ]
  },
  {
   "cell_type": "markdown",
   "metadata": {},
   "source": [
    "## 형 변환"
   ]
  },
  {
   "cell_type": "markdown",
   "metadata": {},
   "source": [
    "앞서 살펴 본 `str()`는 임의의 값을 문자열로 자료형을 변환한다.\n",
    "이처럼 자료형을 변환하는 작업을 **형 변환**<font size='2'>type casting</font>이라 한다.\n",
    "`str()` 이외에 `bool()`, `int()`, `float()` 등도 형 변환 함수이며 인자로 들어온 값을 각각\n",
    "부울, 정수, 부동 소수점으로 변환한다."
   ]
  },
  {
   "cell_type": "code",
   "execution_count": 37,
   "metadata": {},
   "outputs": [],
   "source": [
    "s = '3.14159'"
   ]
  },
  {
   "cell_type": "code",
   "execution_count": 38,
   "metadata": {},
   "outputs": [],
   "source": [
    "fval = float(s)"
   ]
  },
  {
   "cell_type": "code",
   "execution_count": 39,
   "metadata": {},
   "outputs": [
    {
     "data": {
      "text/plain": [
       "3.14159"
      ]
     },
     "execution_count": 39,
     "metadata": {},
     "output_type": "execute_result"
    }
   ],
   "source": [
    "fval"
   ]
  },
  {
   "cell_type": "code",
   "execution_count": 40,
   "metadata": {},
   "outputs": [
    {
     "data": {
      "text/plain": [
       "float"
      ]
     },
     "execution_count": 40,
     "metadata": {},
     "output_type": "execute_result"
    }
   ],
   "source": [
    "type(fval)"
   ]
  },
  {
   "cell_type": "markdown",
   "metadata": {},
   "source": [
    "`int()` 함수는 부동 소수점에서 소수점 이하를 버리고 정수를 반환한다."
   ]
  },
  {
   "cell_type": "code",
   "execution_count": 41,
   "metadata": {},
   "outputs": [
    {
     "data": {
      "text/plain": [
       "3"
      ]
     },
     "execution_count": 41,
     "metadata": {},
     "output_type": "execute_result"
    }
   ],
   "source": [
    "int(fval)"
   ]
  },
  {
   "cell_type": "markdown",
   "metadata": {},
   "source": [
    "`int()` 함수는 문자열도 직접 정수로 반환한다. "
   ]
  },
  {
   "cell_type": "code",
   "execution_count": 42,
   "metadata": {},
   "outputs": [
    {
     "data": {
      "text/plain": [
       "334"
      ]
     },
     "execution_count": 42,
     "metadata": {},
     "output_type": "execute_result"
    }
   ],
   "source": [
    "int('334')"
   ]
  },
  {
   "cell_type": "markdown",
   "metadata": {},
   "source": [
    "단, 인자로 사용된 값에 따라 오류가 발생할 수 있다.\n",
    "예를 들어 `str()` 함수의 인자로 사용된\n",
    "문자열이 정수 형식이 아니면 오류가 발생한다."
   ]
  },
  {
   "cell_type": "markdown",
   "metadata": {},
   "source": [
    "```python\n",
    "In [8]: int(s)\n",
    "---------------------------------------------------------------------------\n",
    "ValueError                                Traceback (most recent call last)\n",
    "<ipython-input-8-2c4720ab420a> in <module>\n",
    "----> 1 int(s)\n",
    "\n",
    "ValueError: invalid literal for int() with base 10: '3.14159'\n",
    "```"
   ]
  },
  {
   "cell_type": "markdown",
   "metadata": {},
   "source": [
    "`bool()` 함수는 0에 대해서만 `False`를 반환한다."
   ]
  },
  {
   "cell_type": "code",
   "execution_count": 43,
   "metadata": {},
   "outputs": [
    {
     "data": {
      "text/plain": [
       "True"
      ]
     },
     "execution_count": 43,
     "metadata": {},
     "output_type": "execute_result"
    }
   ],
   "source": [
    "bool(fval)"
   ]
  },
  {
   "cell_type": "code",
   "execution_count": 44,
   "metadata": {},
   "outputs": [
    {
     "data": {
      "text/plain": [
       "False"
      ]
     },
     "execution_count": 44,
     "metadata": {},
     "output_type": "execute_result"
    }
   ],
   "source": [
    "bool(0)"
   ]
  },
  {
   "cell_type": "code",
   "execution_count": 45,
   "metadata": {},
   "outputs": [
    {
     "data": {
      "text/plain": [
       "True"
      ]
     },
     "execution_count": 45,
     "metadata": {},
     "output_type": "execute_result"
    }
   ],
   "source": [
    "bool(-1)"
   ]
  },
  {
   "cell_type": "markdown",
   "metadata": {},
   "source": [
    "## `None` 값"
   ]
  },
  {
   "cell_type": "markdown",
   "metadata": {},
   "source": [
    "`None`은 어떤 의미도 없는 값, 소위 널(null)값이며, \n",
    "문법적으로 `NoneType` 자료형의 유일한 값이다. "
   ]
  },
  {
   "cell_type": "code",
   "execution_count": 44,
   "metadata": {},
   "outputs": [
    {
     "data": {
      "text/plain": [
       "NoneType"
      ]
     },
     "execution_count": 44,
     "metadata": {},
     "output_type": "execute_result"
    }
   ],
   "source": [
    "type(None)"
   ]
  },
  {
   "cell_type": "code",
   "execution_count": 45,
   "metadata": {},
   "outputs": [
    {
     "data": {
      "text/plain": [
       "True"
      ]
     },
     "execution_count": 45,
     "metadata": {},
     "output_type": "execute_result"
    }
   ],
   "source": [
    "a = None\n",
    "a is None"
   ]
  },
  {
   "cell_type": "code",
   "execution_count": 46,
   "metadata": {},
   "outputs": [
    {
     "data": {
      "text/plain": [
       "True"
      ]
     },
     "execution_count": 46,
     "metadata": {},
     "output_type": "execute_result"
    }
   ],
   "source": [
    "b = 5\n",
    "b is not None"
   ]
  },
  {
   "cell_type": "markdown",
   "metadata": {},
   "source": [
    "**`None` 활용법**"
   ]
  },
  {
   "cell_type": "markdown",
   "metadata": {},
   "source": [
    "함수를 정의할 때 함수의 인자가 경우에 따라 추가될 수 있을 때를 대비해서 키워드 인자로 사용되곤 한다.\n",
    "예를 들어, 아래 `add_and_maybe_multiply()` 함수의 셋째 인자는 기본적으로 `None` 이지만,\n",
    "경우에 따라 다른 값을 지정하여 사용할 수 있도록 활용되고 있다."
   ]
  },
  {
   "cell_type": "code",
   "execution_count": 47,
   "metadata": {},
   "outputs": [],
   "source": [
    "def add_and_maybe_multiply(a, b, c=None):\n",
    "    result = a + b\n",
    "\n",
    "    if c is not None:\n",
    "        result = result * c\n",
    "\n",
    "    return result"
   ]
  },
  {
   "cell_type": "markdown",
   "metadata": {},
   "source": [
    "키워드 인자를 별도로 지정하지 않으면 지정된 값을 사용한다."
   ]
  },
  {
   "cell_type": "code",
   "execution_count": 48,
   "metadata": {},
   "outputs": [
    {
     "data": {
      "text/plain": [
       "5"
      ]
     },
     "execution_count": 48,
     "metadata": {},
     "output_type": "execute_result"
    }
   ],
   "source": [
    "add_and_maybe_multiply(2, 3)  # 2 + 3 "
   ]
  },
  {
   "cell_type": "markdown",
   "metadata": {},
   "source": [
    "키워드 인자를 별도로 지정하면 그 값을 사용한다."
   ]
  },
  {
   "cell_type": "code",
   "execution_count": 49,
   "metadata": {},
   "outputs": [
    {
     "data": {
      "text/plain": [
       "20"
      ]
     },
     "execution_count": 49,
     "metadata": {},
     "output_type": "execute_result"
    }
   ],
   "source": [
    "add_and_maybe_multiply(2, 3, 4) # (2 + 3) * 4"
   ]
  },
  {
   "cell_type": "markdown",
   "metadata": {},
   "source": [
    "## 날짜와 시간"
   ]
  },
  {
   "cell_type": "markdown",
   "metadata": {},
   "source": [
    "`datetime` 모듈은 날짜와 시간과 관련된 유용한 클래스를 제공한다.\n",
    "대표적으로 아래 세 개의 클래스가 활용된다.\n",
    "\n",
    "- `datetime`: 날짜와 시간\n",
    "- `date`: 날짜\n",
    "- `time`: 시간"
   ]
  },
  {
   "cell_type": "code",
   "execution_count": 50,
   "metadata": {},
   "outputs": [],
   "source": [
    "from datetime import datetime, date, time"
   ]
  },
  {
   "cell_type": "markdown",
   "metadata": {},
   "source": [
    "년-월-일-시-분-초 정보를 담은 객체는 아래와 같이 생성한다."
   ]
  },
  {
   "cell_type": "code",
   "execution_count": 51,
   "metadata": {},
   "outputs": [],
   "source": [
    "dt = datetime(2021, 3, 2, 17, 5, 1)"
   ]
  },
  {
   "cell_type": "markdown",
   "metadata": {},
   "source": [
    "`datetime` 객체는 년-월-일-시-분-초를 각각 따로 제공하는 속성 변수를 갖고 있다.\n",
    "예를 들어, 일(day) 속성은 아래와 같이 확인한다."
   ]
  },
  {
   "cell_type": "code",
   "execution_count": 52,
   "metadata": {},
   "outputs": [
    {
     "data": {
      "text/plain": [
       "2"
      ]
     },
     "execution_count": 52,
     "metadata": {},
     "output_type": "execute_result"
    }
   ],
   "source": [
    "dt.day"
   ]
  },
  {
   "cell_type": "markdown",
   "metadata": {},
   "source": [
    "분(minute) 속성은 다음과 같이 확인한다."
   ]
  },
  {
   "cell_type": "code",
   "execution_count": 53,
   "metadata": {},
   "outputs": [
    {
     "data": {
      "text/plain": [
       "5"
      ]
     },
     "execution_count": 53,
     "metadata": {},
     "output_type": "execute_result"
    }
   ],
   "source": [
    "dt.minute"
   ]
  },
  {
   "cell_type": "markdown",
   "metadata": {},
   "source": [
    "날짜 정보만 갖는 `date` 클래스의 객체로의 변환은 `date()` 메서드를 이용한다."
   ]
  },
  {
   "cell_type": "code",
   "execution_count": 54,
   "metadata": {},
   "outputs": [
    {
     "data": {
      "text/plain": [
       "datetime.date(2021, 3, 2)"
      ]
     },
     "execution_count": 54,
     "metadata": {},
     "output_type": "execute_result"
    }
   ],
   "source": [
    "dt.date()"
   ]
  },
  {
   "cell_type": "markdown",
   "metadata": {},
   "source": [
    "시간 정보만 갖는 `time` 클래스의 객체로의 변환은 `time()` 메서드를 이용한다."
   ]
  },
  {
   "cell_type": "code",
   "execution_count": 55,
   "metadata": {},
   "outputs": [
    {
     "data": {
      "text/plain": [
       "datetime.time(17, 5, 1)"
      ]
     },
     "execution_count": 55,
     "metadata": {},
     "output_type": "execute_result"
    }
   ],
   "source": [
    "dt.time()"
   ]
  },
  {
   "cell_type": "markdown",
   "metadata": {},
   "source": [
    "일상적으로 사용하는 날짜-시간 표기법으로 변환하려면 `strftime()` 메서드를 이용한다.\n",
    "단, 인자로 어떤 포맷(format)을 따를지 지정해야 한다.\n",
    "\n",
    "예를 들어, 서양식은 24시간 형식을 따르면서, `요일, 달-일-년 시:분`으로 많이 보여준다."
   ]
  },
  {
   "cell_type": "code",
   "execution_count": 56,
   "metadata": {},
   "outputs": [
    {
     "data": {
      "text/plain": [
       "'Tuesday, 03/02/2021 17:05'"
      ]
     },
     "execution_count": 56,
     "metadata": {},
     "output_type": "execute_result"
    }
   ],
   "source": [
    "dt.strftime('%A, %m/%d/%Y %H:%M')"
   ]
  },
  {
   "cell_type": "markdown",
   "metadata": {},
   "source": [
    "반면에 한국식은 오전/오후를 구분하여 12시간제를 따르면서, `년-월-일(요일) 시:분`으로 많이 보여준다."
   ]
  },
  {
   "cell_type": "code",
   "execution_count": 57,
   "metadata": {},
   "outputs": [
    {
     "data": {
      "text/plain": [
       "'2021/03/02(Tuesday) 05:05PM'"
      ]
     },
     "execution_count": 57,
     "metadata": {},
     "output_type": "execute_result"
    }
   ],
   "source": [
    "dt.strftime('%Y/%m/%d(%A) %I:%M%p')"
   ]
  },
  {
   "cell_type": "markdown",
   "metadata": {},
   "source": [
    ":::{admonition} `datetime` 모듈 공식 문서\n",
    ":class: info\n",
    "\n",
    "날짜와 시간과 관련해서 제공되는\n",
    "보다 다양한 포맷<font size='2'>format</font>에 대한 정보는 \n",
    "[datetime 모듈의 공식문서](https://docs.python.org/ko/3/library/datetime.html)에서\n",
    "확인할 수 있다.\n",
    ":::"
   ]
  },
  {
   "cell_type": "markdown",
   "metadata": {},
   "source": [
    "`strptime()` 함수는 문자열을 해석하여 `datetime` 클래스의 객체로 변환한다.\n",
    "대신에 입력된 문자가 어떤 포맷을 따르는가에 대한 정보를 둘째 인자로 함께 전달해야 한다.\n",
    "0초는 보여주지 않음에 주의한다."
   ]
  },
  {
   "cell_type": "code",
   "execution_count": 58,
   "metadata": {},
   "outputs": [
    {
     "data": {
      "text/plain": [
       "datetime.datetime(2020, 2, 28, 0, 0)"
      ]
     },
     "execution_count": 58,
     "metadata": {},
     "output_type": "execute_result"
    }
   ],
   "source": [
    "datetime.strptime('20200228', '%Y%m%d')"
   ]
  },
  {
   "cell_type": "markdown",
   "metadata": {},
   "source": [
    "`datetime` 클래스의 객체는 불변(immutable)이다. \n",
    "하지만 문자열의 경우와 비슷하게 특정 값을 이용하여 새로운 `datetime` 클래스의\n",
    "객체를 생성할 수는 있다.\n",
    "예를 들어, `replace()` 메서드는 년, 월, 일, 시, 분, 초 각각의 값을 다른 값으로 지정하여 \n",
    "새로운 `datetime` 클래스의 객체를 생성한다.\n",
    "\n",
    "아래 예제는 분과 초를 모두 0으로 설정하여 새로운 `datetime` 객체를 생성한다."
   ]
  },
  {
   "cell_type": "code",
   "execution_count": 59,
   "metadata": {},
   "outputs": [
    {
     "data": {
      "text/plain": [
       "datetime.datetime(2021, 3, 2, 17, 0)"
      ]
     },
     "execution_count": 59,
     "metadata": {},
     "output_type": "execute_result"
    }
   ],
   "source": [
    "dt.replace(minute=0, second=0)"
   ]
  },
  {
   "cell_type": "markdown",
   "metadata": {},
   "source": [
    "두 `datetime` 객체의 차(difference)는 \n",
    "일(days)과 초(seconds) 단위로 계산되어 `timedelta` 클래스의 객체를 반환한다."
   ]
  },
  {
   "cell_type": "code",
   "execution_count": 60,
   "metadata": {},
   "outputs": [],
   "source": [
    "dt2 = datetime(2021, 6, 15, 23, 59)"
   ]
  },
  {
   "cell_type": "code",
   "execution_count": 61,
   "metadata": {},
   "outputs": [
    {
     "data": {
      "text/plain": [
       "datetime.timedelta(days=105, seconds=24839)"
      ]
     },
     "execution_count": 61,
     "metadata": {},
     "output_type": "execute_result"
    }
   ],
   "source": [
    "delta = dt2 - dt\n",
    "delta"
   ]
  },
  {
   "cell_type": "code",
   "execution_count": 62,
   "metadata": {},
   "outputs": [
    {
     "data": {
      "text/plain": [
       "datetime.timedelta"
      ]
     },
     "execution_count": 62,
     "metadata": {},
     "output_type": "execute_result"
    }
   ],
   "source": [
    "type(delta)"
   ]
  },
  {
   "cell_type": "markdown",
   "metadata": {},
   "source": [
    "실제로 `dt + deta == dt2`는 참이된다."
   ]
  },
  {
   "cell_type": "code",
   "execution_count": 63,
   "metadata": {},
   "outputs": [
    {
     "data": {
      "text/plain": [
       "datetime.datetime(2021, 3, 2, 17, 5, 1)"
      ]
     },
     "execution_count": 63,
     "metadata": {},
     "output_type": "execute_result"
    }
   ],
   "source": [
    "dt"
   ]
  },
  {
   "cell_type": "code",
   "execution_count": 64,
   "metadata": {},
   "outputs": [
    {
     "data": {
      "text/plain": [
       "True"
      ]
     },
     "execution_count": 64,
     "metadata": {},
     "output_type": "execute_result"
    }
   ],
   "source": [
    "dt + delta == dt2"
   ]
  }
 ],
 "metadata": {
  "kernelspec": {
   "display_name": "Python 3 (ipykernel)",
   "language": "python",
   "name": "python3"
  },
  "language_info": {
   "codemirror_mode": {
    "name": "ipython",
    "version": 3
   },
   "file_extension": ".py",
   "mimetype": "text/x-python",
   "name": "python",
   "nbconvert_exporter": "python",
   "pygments_lexer": "ipython3",
   "version": "3.11.4"
  },
  "vscode": {
   "interpreter": {
    "hash": "ad0f3c8a064f687cbf898a0868fd45ba1c7e928ac8a0404f7c241d812ddc1e76"
   }
  }
 },
 "nbformat": 4,
 "nbformat_minor": 1
}
