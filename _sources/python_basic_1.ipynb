{
 "cells": [
  {
   "cell_type": "markdown",
   "id": "fec541de",
   "metadata": {},
   "source": [
    "# 프로그램 개발 환경"
   ]
  },
  {
   "cell_type": "markdown",
   "id": "fde0f4b5",
   "metadata": {},
   "source": [
    "파이썬으로 프로그램을 작성하려면 개발 환경을 준비해야 한다.\n",
    "파이썬 프로그램 개발 환경은 크게 오프라인 개발 환경과 클라우드 개발 환경으로 나뉜다.\n",
    "\n",
    "- 오프라인 개발 환경: 파이썬 편집기와 파이썬 실행기를 개인 컴퓨터에 직접 설치해서 활용하는 방식\n",
    "- 클라우드 개발 환경: 웹브라우저를 이용하여 특정 사이트에서 파이썬 편집기와 파이썬 실행기를 활용하는 방식\n",
    "\n",
    "프로그래밍에 어느 정도 친숙하다면 오프라인 개발 환경을 이용할 것을 권장한다.\n",
    "반면에 프로그래밍이 처음이라면 먼저 클라우드 방식을 사용해서 파이썬과 어느 정도 친숙해진 다음에 오프라인 방식을 시도할 것을 추천한다."
   ]
  },
  {
   "cell_type": "markdown",
   "id": "32883d80",
   "metadata": {},
   "source": [
    "## 오프라인 개발 환경"
   ]
  },
  {
   "cell_type": "markdown",
   "id": "ad79282f",
   "metadata": {},
   "source": [
    "개발자가 직접 자신의 컴퓨터에 프로그램 개발 환경을 설정할 수 있다.\n",
    "다양한 방식이 존재하지만 여기서는 아나콘다 파이썬 패키지를 이용하는 방법만 소개한다."
   ]
  },
  {
   "cell_type": "markdown",
   "id": "1b0815b2",
   "metadata": {},
   "source": [
    "### 아나콘다 파이썬 패키지"
   ]
  },
  {
   "cell_type": "markdown",
   "id": "5874e17d",
   "metadata": {},
   "source": [
    "파이썬 프로그램 개발 환경 설치가 처음이라면 \n",
    "데이터 분석 관련 중요 라이브러리, 스파이더 편집기, 주피터 노트북을 모두 포함하는\n",
    "[아나콘다<font size='2'>Anaconda</font> 파이썬 패키지](https://www.anaconda.com)를 추천한다."
   ]
  },
  {
   "cell_type": "markdown",
   "id": "c183d8a8",
   "metadata": {},
   "source": [
    "### 아나콘다와 주피터 노트북"
   ]
  },
  {
   "cell_type": "markdown",
   "id": "7cec437d",
   "metadata": {},
   "source": [
    "[주피터 노트북<font size='2'>Jupyter notebook</font>](https://jupyter.org)은 웹브라우저에서 파이썬 프로그램을 직접 실행하면서 \n",
    "동시에 문서 작성을 지원하는 일종의 문서 편집기이다. \n",
    "주피터 노트북은 셀<font size='2'>cell</font>이라 불리는 작은 입력창으로 구성된다.\n",
    "셀은 크게 코드 셀과 텍스트 셀로 구분된다.\n",
    "\n",
    "- 코드 셀: 파이썬 코드를 작성하고 실행할 수 있는 셀\n",
    "- 텍스트 셀: 일반 문서를 작성할 수 있는 셀"
   ]
  },
  {
   "cell_type": "markdown",
   "id": "000ffd98",
   "metadata": {},
   "source": [
    "<div align=\"center\"><img src=\"https://raw.githubusercontent.com/codingalzi/pybook/master/jupyter-book/images/jupyter-notebook02.png\" style=\"width:100%\"></div>"
   ]
  },
  {
   "cell_type": "markdown",
   "id": "0c30279f",
   "metadata": {},
   "source": [
    ":::{admonition} 아나콘다 설치와 주피터 노트북 사용법\n",
    ":class: note\n",
    "\n",
    "아나콘다의 설치 과정과 주피터 노트북의 기초 사용법에 대한 보다 상세한 설명을 아래 링크에서 확인할 수 있다.\n",
    "\n",
    "- [나도코딩: 아나콘다 환경 설정 및 주피터 노트북 사용법](https://youtu.be/dJfq-eCi7KI?si=gvHP7QO6hLSr6xxj&t=19)\n",
    "- [아나콘다 설치 문서](https://codingalzi.github.io/pybook/environment_setting.html#sec-anaconda-install)\n",
    ":::"
   ]
  },
  {
   "cell_type": "markdown",
   "id": "a4034c34",
   "metadata": {},
   "source": [
    "### 아나콘다와 비주얼 스튜디오 코드(VS Code)"
   ]
  },
  {
   "cell_type": "markdown",
   "id": "50d0d385",
   "metadata": {},
   "source": [
    "대형 프로젝트를 진행하면 많은 코드 파일을 \n",
    "작성하고 관리해야 한다.\n",
    "이때 코드 편집과 실행, 디버깅, 파일 관리 등 \n",
    "프로그램 개발 관련 모든 작업을 통합해서 지원하는 \n",
    "통합 개발 환경을 사용한다.\n",
    "일명 **IDE**<font size=\"2\">Interactive Development Environment</font>라고 불리는\n",
    "통합 개발 환경을 지원하는 대표적인 상용 앱과 무료 앱은 다음과 같다.\n",
    "\n",
    "* [비주얼 스튜디오 코드<font size=\"2\">Visual Studio Code</font>](https://code.visualstudio.com/docs/languages/python): \n",
    "    마이크로소프트에서 지원하며, 현재 가장 인기 있는 무료 프로그램.\n",
    "    파이썬 뿐만 아니라 거의 모든 프로그래밍 언어를 위한 통합 개발 환경 지원.\n",
    "\n",
    "* [파이참<font size=\"2\">Pycharm</font>](https://www.jetbrains.com/pycharm): 가장 인기있는 상용 프로그램.\n",
    "    Pro 와 Community 두 버전을 지원하며 입문자는 무료 버전인 Community 추천.\n",
    "\n",
    "여기서는 일명 VS Code라 불리는 비주얼 스튜디오 코드<font size='2'>Visual Studio Code</font>를 \n",
    "추천한다.\n",
    "전통적인 IDE 역할과 더불어 주피터 노트북도 지원한다.\n",
    "VS Code의 설치 과정과 사용법은 아래 링크를 참고한다.\n",
    "단, 여기서는 아나콘다 파이썬 패키지가 설치되어 있다고 가정한다.\n",
    "\n",
    "- VS Code 설치 설명 문서: [VS Code 설치](https://codingalzi.github.io/pybook/environment_setting.html#sec-vs-code)\n",
    "- 간단한 설명: [예술하는 개발자: 쉽고 빠른 Visual Studio Code와 파이썬 설치!](https://www.youtube.com/watch?v=8FyFXwlaod0)\n",
    "- 보다 자세한 설명: [생활코딩: Visual Studio Code 기본 사용법](https://www.youtube.com/watch?v=K8qVH8V0VvY)"
   ]
  },
  {
   "cell_type": "markdown",
   "id": "a74dce71",
   "metadata": {},
   "source": [
    "## 클라우드 개발 환경"
   ]
  },
  {
   "cell_type": "markdown",
   "id": "a076b006",
   "metadata": {},
   "source": [
    "파이썬 프로그램 개발 환경을 지원하는 많은 클라우드 서비스가 존재한다.\n",
    "여기서는 구글 코랩, 깃허브 코드스페이스, 레플릿 세 개의 서비스를 소개한다."
   ]
  },
  {
   "cell_type": "markdown",
   "id": "f49f0ee6",
   "metadata": {},
   "source": [
    "### 구글 코랩"
   ]
  },
  {
   "cell_type": "markdown",
   "id": "ff19a0e9",
   "metadata": {},
   "source": [
    "[구글 코랩<font size=\"2\">Google Colab</font>](https://colab.research.google.com/?hl=ko)은 \n",
    "파이썬 전용 클라우드 주피터 노트북을 제공한다.\n",
    "웹브라우저를 이용하여 접속하면 어떤 준비 없이 바로 파이썬 프로그래밍을 시작할 수 있다."
   ]
  },
  {
   "cell_type": "markdown",
   "id": "53d41c11",
   "metadata": {},
   "source": [
    "**전제 조건**\n",
    "\n",
    "구글 계정이 있어야 한다."
   ]
  },
  {
   "cell_type": "markdown",
   "id": "ce1a9d72",
   "metadata": {},
   "source": [
    "**구글 코랩 사용법**\n",
    "\n",
    "아래 링크를 통해 간단한 사용법을 익힌다.\n",
    "\n",
    "- 입문용: [유튜버 봉수골 개발자 이선비의 동영상](https://www.youtube.com/watch?v=91E0qenm7W4)\n",
    "\n",
    "보다 상세한 설명은 아래 링크를 참고한다.\n",
    "\n",
    "- 구글 코랩 고급 기능 설명: [TensorFlow 팀의 동영상](https://www.youtube.com/watch?v=rNgswRZ2C1Y)"
   ]
  },
  {
   "cell_type": "markdown",
   "id": "df8e113c",
   "metadata": {},
   "source": [
    "### 깃허브 코드스페이스"
   ]
  },
  {
   "cell_type": "markdown",
   "id": "2156e56b",
   "metadata": {},
   "source": [
    "[깃허브 코드스페이스<font size='2'>Github Codespaces</font>](https://github.com/features/codespaces)는 깃허브에서 제공하는 클라우드 통합 개발 환경이다.\n",
    "VS Code를 기본 편집기로 사용하기에 주피터 노트북도 활용할 수 있다."
   ]
  },
  {
   "cell_type": "markdown",
   "id": "510b2536",
   "metadata": {},
   "source": [
    "**전제 조건**\n",
    "\n"
   ]
  },
  {
   "cell_type": "markdown",
   "id": "a6e453ac",
   "metadata": {},
   "source": [
    "[깃허브<font size='2'>GitHub</font>](https://github.com) 계정과 함께 간단한 사용법을 알고 있어야 한다.\n",
    "깃허브에 대한 친절하며 자세한 설명은 아래 링크를 참고한다.\n",
    "\n",
    "- [생활코딩: GitHub](https://www.youtube.com/playlist?list=PLuHgQVnccGMDWjb0TWItMCfDWDs8Y3Oo7)"
   ]
  },
  {
   "cell_type": "markdown",
   "id": "fc15fd03",
   "metadata": {},
   "source": [
    "**깃허브 코드스페이스 사용법**\n",
    "\n",
    "아래 링크에서 코드스페이스의 기능과 간단한 사용법을 익힌다.\n",
    "\n",
    "- [Github Codespaces로 개발하기](https://velog.io/@profile_exe/Github-Codespaces)\n",
    "- [How to use GitHub Codespaces for Coding and Data Science](https://www.youtube.com/watch?v=kvJf8s18Vr4)"
   ]
  },
  {
   "cell_type": "markdown",
   "id": "217bb367",
   "metadata": {},
   "source": [
    "**추가 추천**\n",
    "\n",
    "프로그램 개발자가 기본 상식으로 알고 있어야 하는 협업 도구인 Git과 \n",
    "VS Code를 이용한 Git, GitHub 활용법을 공부할 것을 추천한다.\n",
    "\n",
    "- Git 이해: [생활코딩: Git](https://www.youtube.com/playlist?list=PLuHgQVnccGMCNJESahrVV-uYGMNYK_vMf)\n",
    "- VS Code와 Git: [생활코딩: Visual Studio Code 로 다루는 Git](https://www.youtube.com/playlist?list=PLuHgQVnccGMAQvSVKdXFiOo51HUD8iQQm)"
   ]
  }
 ],
 "metadata": {
  "kernelspec": {
   "display_name": "Python 3 (ipykernel)",
   "language": "python",
   "name": "python3"
  },
  "language_info": {
   "codemirror_mode": {
    "name": "ipython",
    "version": 3
   },
   "file_extension": ".py",
   "mimetype": "text/x-python",
   "name": "python",
   "nbconvert_exporter": "python",
   "pygments_lexer": "ipython3",
   "version": "3.11.4"
  },
  "toc-autonumbering": false,
  "vscode": {
   "interpreter": {
    "hash": "ad0f3c8a064f687cbf898a0868fd45ba1c7e928ac8a0404f7c241d812ddc1e76"
   }
  }
 },
 "nbformat": 4,
 "nbformat_minor": 5
}
