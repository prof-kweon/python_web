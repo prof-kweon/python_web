{
 "cells": [
  {
   "cell_type": "markdown",
   "metadata": {
    "id": "VgBCzsxVX04Y"
   },
   "source": [
    "(sec:python_basic_2)=\n",
    "# 기초 문법"
   ]
  },
  {
   "cell_type": "markdown",
   "metadata": {},
   "source": [
    "파이썬 프로그램의 기본 구조를 살펴본다."
   ]
  },
  {
   "cell_type": "markdown",
   "metadata": {},
   "source": [
    "## 구문"
   ]
  },
  {
   "cell_type": "markdown",
   "metadata": {},
   "source": [
    "구문<font size='2'>syntax</font>은 프로그래밍 언어에서 정해진 문법에 따라 \n",
    "프로그램의 형태와 구조를 지정하는 것을 가리킨다.\n",
    "파이썬의 구문은 C, Java 등의 그것과 많이 다르다. \n",
    "예를 들어, 중괄호(`{ }`)와 세미콜론(`;`)을 사용하지 않으며,\n",
    "대신에 들여쓰기와 줄바꿈을 이용하여 명령문을 작성한다."
   ]
  },
  {
   "cell_type": "markdown",
   "metadata": {
    "id": "8ILl4ZL0X04h"
   },
   "source": [
    "**들여쓰기**"
   ]
  },
  {
   "cell_type": "markdown",
   "metadata": {
    "id": "f45MAnmKX04h"
   },
   "source": [
    "들여쓰기를 이용하여 명령문 블록<font size='2'>block</font>을 지정한다. \n",
    "예를 들어 `for` 반복문의 본문에 `if ... else ...` 조건문을 \n",
    "사용하고자 할 경우 아래와 같이 작성한다."
   ]
  },
  {
   "cell_type": "code",
   "execution_count": 2,
   "metadata": {},
   "outputs": [
    {
     "name": "stdout",
     "output_type": "stream",
     "text": [
      "less: [1, 2]\n",
      "greater: [3, 5, 4]\n"
     ]
    }
   ],
   "source": [
    "data = [3, 1, 5, 2, 4]\n",
    "pivot = data[0]\n",
    "less = []\n",
    "greater = []\n",
    "\n",
    "for x in data:\n",
    "    if x < pivot:         # for 본문 들여쓰기 사용\n",
    "        less.append(x)    # if 본문 들여쓰기 사용   \n",
    "    else:                 \n",
    "        greater.append(x) # else 본문 들여쓰기 사용\n",
    "\n",
    "print(f\"less: {less}\")\n",
    "print(f\"greater: {greater}\")"
   ]
  },
  {
   "cell_type": "markdown",
   "metadata": {
    "id": "ifFwRwv0X04i"
   },
   "source": [
    ":::{admonition} <kbd>Tab</kbd> 키 활용\n",
    ":class: info\n",
    "\n",
    "코딩할 때 <kbd>Tab</kbd> 키는 두 가지 기능으로 유용하게 사용된다.\n",
    "\n",
    "첫째, **들여쓰기**. 커서가 줄 맨 왼쪽에 위치했을 때 <kbd>Tab</kbd> 키를 누르면 \n",
    "보통 스페이스 네 개에 해당하는 만큼 들여쓰기가 이뤄진다.\n",
    "대부분의 편집기는 <kbd>Enter</kbd> 키를 치면 들여쓰기를 적절하게 대신 실행하지만\n",
    "사용자가 직접 <kbd>Tab</kbd> 키를 이용하여 들여쓰기 정도를 조절해야 할 필요가 있다.\n",
    "들여쓰기를 반대로 실행하려면 <kbd>Shift</kbd> + <kbd>Tab</kbd> 조합을 이용한다.\n",
    "\n",
    "둘째, **탭 완성**. 함수, 변수, 객체 등을 작성하다가 <kbd>Tab</kbd> 키를 누르면\n",
    "이름을 자동으로 완성해준다. \n",
    "대부분의 편집키는 또한 탭키를 누르면 적절한 함수, 변수, 객체를 추천하기도 한다.\n",
    "<kbd>Tab</kbd> 키는 보다 빠른 코딩을 지원하는 것 뿐만 아니라, \n",
    "코드 작성 오타 또는 오류를 줄여 준다.\n",
    ":::"
   ]
  },
  {
   "cell_type": "markdown",
   "metadata": {
    "id": "htGoUzKOX04i"
   },
   "source": [
    "**줄바꿈**"
   ]
  },
  {
   "cell_type": "markdown",
   "metadata": {
    "id": "o7E3WWNiX04j"
   },
   "source": [
    "하나의 명령문은 한 줄에 작성하는 것이 원칙이다.\n",
    "아래 코드는 세 개의 변수를 각각 한 줄에 하나씩 선언하는 것을 보여준다."
   ]
  },
  {
   "cell_type": "code",
   "execution_count": 1,
   "metadata": {
    "executionInfo": {
     "elapsed": 1235,
     "status": "ok",
     "timestamp": 1615199853989,
     "user": {
      "displayName": "",
      "photoUrl": "",
      "userId": ""
     },
     "user_tz": -540
    },
    "id": "_6BE8ij2X04k"
   },
   "outputs": [],
   "source": [
    "a = 5\n",
    "b = 6\n",
    "c = 7"
   ]
  },
  {
   "cell_type": "markdown",
   "metadata": {
    "id": "E9QTaDELX04k"
   },
   "source": [
    "연속된 변수 할당의 경우 파이썬은 아래 방식도 지원한다."
   ]
  },
  {
   "cell_type": "code",
   "execution_count": 2,
   "metadata": {
    "executionInfo": {
     "elapsed": 1234,
     "status": "ok",
     "timestamp": 1615199853990,
     "user": {
      "displayName": "",
      "photoUrl": "",
      "userId": ""
     },
     "user_tz": -540
    },
    "id": "LINER8BaX04k"
   },
   "outputs": [
    {
     "name": "stdout",
     "output_type": "stream",
     "text": [
      "a: 5\n",
      "b: 6\n",
      "c: 7\n"
     ]
    }
   ],
   "source": [
    "a, b, c = 5, 6, 7\n",
    "print(f\"a: {a}\", f\"b: {b}\", f\"c: {c}\", sep='\\n')"
   ]
  },
  {
   "cell_type": "markdown",
   "metadata": {
    "id": "17LwZKxcX04l"
   },
   "source": [
    "**주의사항:** `f\"a: {a}, ...\"`는 **f-문자열**, 즉 변수를 포함하는 문자열을\n",
    "생성하는 **문자열 포매팅**<font size='2'>string formatting</font>이다.\n",
    "문자열 포매팅에 대한 보다 자세한 설명은 [파이썬 프로그래밍 기초: 문자열 포매팅](https://codingalzi.github.io/pybook/datatypes.html?highlight=format#id10)를 참고한다."
   ]
  },
  {
   "cell_type": "markdown",
   "metadata": {
    "id": "b662gAztX04m"
   },
   "source": [
    "## 주석"
   ]
  },
  {
   "cell_type": "markdown",
   "metadata": {
    "id": "6kAy9FqVX04m"
   },
   "source": [
    "샵 기호(`#`) 다음에 오는 문장은 파이썬 인터프리터에의 의해 무시된다.\n",
    "주로 코드의 일부 기능을 잠시 해제하거나 코드에 대한 설명을 전달하는 주석으로 활용된다.\n",
    "예를 들어 아래 코드에서 주석은 코드 일부를 실행 해제하는 기능으로 사용되었다."
   ]
  },
  {
   "cell_type": "code",
   "execution_count": 2,
   "metadata": {
    "colab": {
     "base_uri": "https://localhost:8080/"
    },
    "executionInfo": {
     "elapsed": 1665,
     "status": "ok",
     "timestamp": 1615199854443,
     "user": {
      "displayName": "",
      "photoUrl": "",
      "userId": ""
     },
     "user_tz": -540
    },
    "id": "ItFjHOrYX04n",
    "outputId": "1cf82fb6-d3ca-461e-a268-4f8c2ff2965f"
   },
   "outputs": [
    {
     "name": "stdout",
     "output_type": "stream",
     "text": [
      "['라디오', '', 'tv', '전화']\n"
     ]
    }
   ],
   "source": [
    "items = [\"라디오\", \"\", \"tv\", \"전화\"]\n",
    "results = []\n",
    "\n",
    "for item in items:\n",
    "    # if len(item) == 0:  # 코드 실행 해제\n",
    "    #   continue          # 코드 실행 해제\n",
    "    results.append(item)\n",
    "\n",
    "print(results)"
   ]
  },
  {
   "cell_type": "markdown",
   "metadata": {
    "id": "r5xj_EN4X04n"
   },
   "source": [
    "위 코드의 주석을 제거하면 다른 결과가 나온다.\n",
    "이유는 `if` 조건문의 본문 코드인 `continue`에 의해 빈 문자열인 경우\n",
    "무시되기 때문이다."
   ]
  },
  {
   "cell_type": "code",
   "execution_count": 3,
   "metadata": {
    "colab": {
     "base_uri": "https://localhost:8080/"
    },
    "executionInfo": {
     "elapsed": 1656,
     "status": "ok",
     "timestamp": 1615199854444,
     "user": {
      "displayName": "",
      "photoUrl": "",
      "userId": ""
     },
     "user_tz": -540
    },
    "id": "k3P5oHoqX04n",
    "outputId": "55291bb1-fcc1-4096-e2a7-7eed1fba2087"
   },
   "outputs": [
    {
     "name": "stdout",
     "output_type": "stream",
     "text": [
      "['라디오', 'tv', '전화']\n"
     ]
    }
   ],
   "source": [
    "items = [\"라디오\", \"\", \"tv\", \"전화\"]\n",
    "results = []\n",
    "\n",
    "for item in items:\n",
    "    if len(item) == 0:\n",
    "        continue\n",
    "    results.append(item)\n",
    "\n",
    "print(results)"
   ]
  },
  {
   "cell_type": "markdown",
   "metadata": {
    "id": "CPJcQdfZX04o"
   },
   "source": [
    "아래와 같이 명령문 끝 부분에 주석을 달아 \n",
    "해당 명령문에 대한 설명 또는 정보를 제공하기도 한다."
   ]
  },
  {
   "cell_type": "code",
   "execution_count": 5,
   "metadata": {
    "colab": {
     "base_uri": "https://localhost:8080/"
    },
    "executionInfo": {
     "elapsed": 1647,
     "status": "ok",
     "timestamp": 1615199854445,
     "user": {
      "displayName": "",
      "photoUrl": "",
      "userId": ""
     },
     "user_tz": -540
    },
    "id": "Ee0Af2KDX04o",
    "outputId": "5231e83a-e3b0-4d6d-cc30-c817448c6485"
   },
   "outputs": [
    {
     "name": "stdout",
     "output_type": "stream",
     "text": [
      "여기까지 공부했습니다.\n"
     ]
    }
   ],
   "source": [
    "print(\"여기까지 공부했습니다.\") # 여기까지 진행한 것을 확인해주는 문장 출력"
   ]
  },
  {
   "cell_type": "markdown",
   "metadata": {},
   "source": [
    "## 변수"
   ]
  },
  {
   "cell_type": "markdown",
   "metadata": {
    "id": "tgpqI5L4X04v"
   },
   "source": [
    "변수에 할당된 값이 리스트와 같이 좀 복잡한 객체일 때는 파이썬 실행기 내부에서\n",
    "변수가 해당 값을 **참조**(reference)한다.\n",
    "참조는 변수가 단순히 하나의 값을 가리키는 것 이외에 부가적인 기능도 수행한다.\n",
    "\n",
    "예를 들어 변수 `a`가 리스트 `[1, 2, 3]`을 참조하도록 하자."
   ]
  },
  {
   "cell_type": "code",
   "execution_count": null,
   "metadata": {
    "executionInfo": {
     "elapsed": 1564,
     "status": "ok",
     "timestamp": 1615199854451,
     "user": {
      "displayName": "",
      "photoUrl": "",
      "userId": ""
     },
     "user_tz": -540
    },
    "id": "9ojGYyJyX04v"
   },
   "outputs": [],
   "source": [
    "a = [1, 2, 3]"
   ]
  },
  {
   "cell_type": "markdown",
   "metadata": {
    "id": "TLhi0BkAX04v"
   },
   "source": [
    "그리고 변수 `b`를 다음과 같이 선언하면 변수 `a`와 동일한 값을 참조한다. "
   ]
  },
  {
   "cell_type": "code",
   "execution_count": null,
   "metadata": {
    "executionInfo": {
     "elapsed": 1562,
     "status": "ok",
     "timestamp": 1615199854451,
     "user": {
      "displayName": "",
      "photoUrl": "",
      "userId": ""
     },
     "user_tz": -540
    },
    "id": "gococDGvX04v"
   },
   "outputs": [],
   "source": [
    "b = a"
   ]
  },
  {
   "cell_type": "markdown",
   "metadata": {
    "id": "IWlm2zsYX04v"
   },
   "source": [
    "아래 그림에서에서처럼 `a`와 `b`가 화살표로 동일한 리스트를 가리키는 방식으로\n",
    "참조를 표현할 수 있다."
   ]
  },
  {
   "cell_type": "markdown",
   "metadata": {
    "id": "W90CY4XBX04w"
   },
   "source": [
    "<div align=\"center\"><img src=\"https://raw.githubusercontent.com/codingalzi/datapy/master/jupyter-book/images/variables-a-b-1.png\" style=\"width:340px;\"></div>"
   ]
  },
  {
   "cell_type": "markdown",
   "metadata": {
    "id": "Y0ViwfUbX04w"
   },
   "source": [
    "`a`와 `b`가 동일한 값을 참조하기에 `a`가 참조하는 값을 변화시키면 `b`도 영향을 받는다.\n",
    "아래 코드는 `a`가 가리키는 리스트에 항목을 추가하면 `b`가 동일한 리스트를 가리키기에\n",
    "`b`가 가리키는 값도 함께 변하는 것을 보여준다."
   ]
  },
  {
   "cell_type": "code",
   "execution_count": null,
   "metadata": {
    "colab": {
     "base_uri": "https://localhost:8080/"
    },
    "executionInfo": {
     "elapsed": 1553,
     "status": "ok",
     "timestamp": 1615199854452,
     "user": {
      "displayName": "",
      "photoUrl": "",
      "userId": ""
     },
     "user_tz": -540
    },
    "id": "SHcoUmCiX04w",
    "outputId": "a91ea544-ed1a-4458-9577-fb2480428787"
   },
   "outputs": [
    {
     "data": {
      "text/plain": [
       "[1, 2, 3, 4]"
      ]
     },
     "metadata": {},
     "output_type": "display_data"
    }
   ],
   "source": [
    "a.append(4) # 항목 추가\n",
    "b"
   ]
  },
  {
   "cell_type": "markdown",
   "metadata": {},
   "source": [
    "그림으로 표현하면 다음과 같다."
   ]
  },
  {
   "cell_type": "markdown",
   "metadata": {
    "id": "W90CY4XBX04w"
   },
   "source": [
    "<div align=\"center\"><img src=\"https://raw.githubusercontent.com/codingalzi/datapy/master/jupyter-book/images/variables-a-b-2.png\" style=\"width:340px;\"></div>"
   ]
  },
  {
   "cell_type": "markdown",
   "metadata": {
    "id": "YxFS45XKX04w"
   },
   "source": [
    "반면에 정수와 같이 보다 간단한 객체를 변수에 할당하는 경우는 다르게 작동한다."
   ]
  },
  {
   "cell_type": "code",
   "execution_count": null,
   "metadata": {
    "executionInfo": {
     "elapsed": 1550,
     "status": "ok",
     "timestamp": 1615199854452,
     "user": {
      "displayName": "",
      "photoUrl": "",
      "userId": ""
     },
     "user_tz": -540
    },
    "id": "R0CM-ZZHX04x"
   },
   "outputs": [],
   "source": [
    "a = 4\n",
    "b = a"
   ]
  },
  {
   "cell_type": "markdown",
   "metadata": {
    "id": "W90CY4XBX04w"
   },
   "source": [
    "<div align=\"center\"><img src=\"https://raw.githubusercontent.com/codingalzi/datapy/master/jupyter-book/images/variables-a-b-4.png\" style=\"width:360px;\"></div>"
   ]
  },
  {
   "cell_type": "markdown",
   "metadata": {
    "id": "Z-G31zdGX04x"
   },
   "source": [
    "변수 `a`가 가리키는 값을 변경하더라도 변수 `b`가 가리키는 값은 영향을 받지 않는다."
   ]
  },
  {
   "cell_type": "code",
   "execution_count": null,
   "metadata": {
    "colab": {
     "base_uri": "https://localhost:8080/"
    },
    "executionInfo": {
     "elapsed": 1826,
     "status": "ok",
     "timestamp": 1615199854737,
     "user": {
      "displayName": "",
      "photoUrl": "",
      "userId": ""
     },
     "user_tz": -540
    },
    "id": "byt7fP5VX04x",
    "outputId": "54f83f0a-a599-4f50-a0e3-41326194a2b9"
   },
   "outputs": [
    {
     "name": "stdout",
     "output_type": "stream",
     "text": [
      "a = 7\n",
      "b = 4\n"
     ]
    }
   ],
   "source": [
    "a = a + 1\n",
    "\n",
    "print(f\"a = {a}\", f\"b = {b}\", sep=\"\\n\")"
   ]
  },
  {
   "cell_type": "markdown",
   "metadata": {
    "id": "W90CY4XBX04w"
   },
   "source": [
    "<div align=\"center\"><img src=\"https://raw.githubusercontent.com/codingalzi/datapy/master/jupyter-book/images/variables-a-b-5.png\" style=\"width:360px;\"></div>"
   ]
  },
  {
   "cell_type": "markdown",
   "metadata": {},
   "source": [
    "### 스코프"
   ]
  },
  {
   "cell_type": "markdown",
   "metadata": {},
   "source": [
    "파이썬에서 다루는 모든 객체는 스코프<font size='2'>scope</font>라 불리는 자신만의 활동영역이 있으며\n",
    "자신의 활동영역을 벗어나서는 존재 자체를 인정받지 못한다. \n",
    "이는 변수에게도 동일하게 적용되는데 특히 함수와 관련되어 전역 변수와 지역 변수로 서로 다른 활동영역을 갖는다."
   ]
  },
  {
   "cell_type": "markdown",
   "metadata": {
    "id": "OpBlpNj9X04x"
   },
   "source": [
    "**전역 변수와 지역 변수**"
   ]
  },
  {
   "cell_type": "markdown",
   "metadata": {},
   "source": [
    "특정 함수와 상관이 없이 선언된 변수인 **전역 변수**<font size='2'>global variables</font>는 어디에서든 사용할 수 있지만,\n",
    "어떤 함수의 매개 변수 또는 함수 본문 내에서 선언된 변수인 **지역 변수**<font size='2'>local variables</font>는 함수 밖에서 사용할 수 없다."
   ]
  },
  {
   "cell_type": "markdown",
   "metadata": {},
   "source": [
    "아래 코드에서 `some_list`, `element`는 함수의 매개 변수로 선언된 지역 변수이고,\n",
    "`data_original`은 함수 본문에서 선언된 지역변수이다."
   ]
  },
  {
   "cell_type": "code",
   "execution_count": null,
   "metadata": {
    "executionInfo": {
     "elapsed": 1825,
     "status": "ok",
     "timestamp": 1615199854738,
     "user": {
      "displayName": "",
      "photoUrl": "",
      "userId": ""
     },
     "user_tz": -540
    },
    "id": "hvzYKmGTX04x"
   },
   "outputs": [],
   "source": [
    "def append_element(some_list, element):\n",
    "    data_original = some_list\n",
    "    data_original.append(element)\n",
    "    return data_original"
   ]
  },
  {
   "cell_type": "markdown",
   "metadata": {
    "id": "ZBLoHw0LX04y"
   },
   "source": [
    "아래 코드에서 `data`는 함수 밖에서 선언된 전역 변수이며,\n",
    "함수에 인자로 사용되었다."
   ]
  },
  {
   "cell_type": "code",
   "execution_count": null,
   "metadata": {
    "executionInfo": {
     "elapsed": 1824,
     "status": "ok",
     "timestamp": 1615199854739,
     "user": {
      "displayName": "",
      "photoUrl": "",
      "userId": ""
     },
     "user_tz": -540
    },
    "id": "4rKbWp8YX04y"
   },
   "outputs": [
    {
     "data": {
      "text/plain": [
       "[1, 2, 3, 4]"
      ]
     },
     "metadata": {},
     "output_type": "display_data"
    }
   ],
   "source": [
    "data = [1, 2, 3]\n",
    "\n",
    "append_element(data, 4)"
   ]
  },
  {
   "cell_type": "markdown",
   "metadata": {},
   "source": [
    "함수의 실행이 끝나도 `data`는 변형된 리스트를 가리키는 변수로 남아 있다.\n",
    "또한 함수가 실행될 때 생성되는 `data_original`이 `data`와 동일한 리스트를 참조하기에\n",
    "리스트에 4를 추가한 결과가 `data`가 가리키는 리스트에도 동일한 영향을 준다."
   ]
  },
  {
   "cell_type": "code",
   "execution_count": null,
   "metadata": {
    "colab": {
     "base_uri": "https://localhost:8080/"
    },
    "executionInfo": {
     "elapsed": 1813,
     "status": "ok",
     "timestamp": 1615199854739,
     "user": {
      "displayName": "",
      "photoUrl": "",
      "userId": ""
     },
     "user_tz": -540
    },
    "id": "TRxZBvHuX04y",
    "outputId": "46d7f694-7045-4531-8dad-56d69b987ef3"
   },
   "outputs": [
    {
     "data": {
      "text/plain": [
       "[1, 2, 3, 4]"
      ]
     },
     "metadata": {},
     "output_type": "display_data"
    }
   ],
   "source": [
    "data"
   ]
  },
  {
   "cell_type": "markdown",
   "metadata": {
    "id": "62zdAataX04y"
   },
   "source": [
    "반면에 지역 변수인 `data_original`은 함수 실행이 멈춘 후에는 더 이상 사용할 수 없다.\n",
    "\n",
    "```python\n",
    "In [30]: print(data_original)\n",
    "---------------------------------------------------------------------------\n",
    "NameError                                 Traceback (most recent call last)\n",
    "<ipython-input-1-80a9247ee20e> in <module>\n",
    "----> 1 print(data_original)\n",
    "\n",
    "NameError: name 'data_original' is not defined\n",
    "```"
   ]
  },
  {
   "cell_type": "markdown",
   "metadata": {},
   "source": [
    "## 함수 호출과 인자"
   ]
  },
  {
   "cell_type": "markdown",
   "metadata": {
    "id": "im-_GwSSX04o"
   },
   "source": [
    "**함수 호출**"
   ]
  },
  {
   "cell_type": "markdown",
   "metadata": {
    "id": "d8PZGUxLX04o"
   },
   "source": [
    "함수를 적절한 인자와 함께 실행하는 것을 **함수 호출**<font size='2'>function call</font>이라 한다.\n",
    "예를 들어, 아래와 같이 세 개의 인자를 받는 함수를 정의한다."
   ]
  },
  {
   "cell_type": "code",
   "execution_count": 6,
   "metadata": {
    "executionInfo": {
     "elapsed": 1645,
     "status": "ok",
     "timestamp": 1615199854445,
     "user": {
      "displayName": "",
      "photoUrl": "",
      "userId": ""
     },
     "user_tz": -540
    },
    "id": "qpcJi1SAX04o"
   },
   "outputs": [],
   "source": [
    "def fun(x, y, z):\n",
    "    return (x + y) / z"
   ]
  },
  {
   "cell_type": "markdown",
   "metadata": {
    "id": "AnkAaEYpX04p"
   },
   "source": [
    "함수 `fun()`를 호출하려면 세 개의 매개 변수 `x`, `y`, `z`에 해당하는\n",
    "세 개의 인자를 지정해야 한다.\n",
    "아래 코드에서는 2, 3, 4를 각각 `x`, `y`, `z`의 인자로 지정하여 `fun()` 함수를 호출하고 \n",
    "실행 후 반환된 값을 변수 `result`에 할당하였다."
   ]
  },
  {
   "cell_type": "code",
   "execution_count": 7,
   "metadata": {
    "executionInfo": {
     "elapsed": 1643,
     "status": "ok",
     "timestamp": 1615199854446,
     "user": {
      "displayName": "",
      "photoUrl": "",
      "userId": ""
     },
     "user_tz": -540
    },
    "id": "hONT6UxGX04p"
   },
   "outputs": [],
   "source": [
    "result = fun(2, 3, 4) # x=2, y=3, z=4"
   ]
  },
  {
   "cell_type": "markdown",
   "metadata": {
    "id": "ISoPlfTZX04p"
   },
   "source": [
    "함수가 반환하는 값은 다음과 같다."
   ]
  },
  {
   "cell_type": "code",
   "execution_count": 8,
   "metadata": {
    "colab": {
     "base_uri": "https://localhost:8080/"
    },
    "executionInfo": {
     "elapsed": 1625,
     "status": "ok",
     "timestamp": 1615199854447,
     "user": {
      "displayName": "",
      "photoUrl": "",
      "userId": ""
     },
     "user_tz": -540
    },
    "id": "A2Lh7SjRX04q",
    "outputId": "afe0544e-297c-4699-8705-6087f5eb1f32"
   },
   "outputs": [
    {
     "name": "stdout",
     "output_type": "stream",
     "text": [
      "1.25\n"
     ]
    }
   ],
   "source": [
    "print(result)"
   ]
  },
  {
   "cell_type": "markdown",
   "metadata": {},
   "source": [
    "아래와 같이 함수의 반환값을 바로 확인할 수도 있다."
   ]
  },
  {
   "cell_type": "code",
   "execution_count": 9,
   "metadata": {},
   "outputs": [
    {
     "data": {
      "text/plain": [
       "1.25"
      ]
     },
     "execution_count": 9,
     "metadata": {},
     "output_type": "execute_result"
    }
   ],
   "source": [
    "fun(2, 3, 4)"
   ]
  },
  {
   "cell_type": "markdown",
   "metadata": {
    "id": "ifFwRwv0X04i"
   },
   "source": [
    ":::{admonition} 함수의 매개 변수와 인자\n",
    ":class: info\n",
    "\n",
    "매개 변수, 영어로 parameter(파라미터)는 함수를 선언할 때 사용되는 변수를 가리킨다.\n",
    "`fun()` 함수는 `x`, `y`, `z` 세 개의 매개 변수를 사용한다.\n",
    "매개 변수는 함수를 호출할 때 지정되는 인자를 함수의 본문에 전달하는 역할을 수행한다.\n",
    "참고로 인자는 영어로 argument(아규먼트)라 한다.\n",
    "\n",
    "매개 변수는 함수를 정의할 때 사용되는 특별한 변수이며, \n",
    "함수 내부에서만 의미를 갖기에 대표적인 **지역 변수**<font size='2'>local variable</font>이다. \n",
    "\n",
    "프로그래밍에서 파라미터<font size='2'>parameter</font>는 다양한 의미로 사용된다. \n",
    "데이터 분석, 특히 머신러닝에서는 모델의 파라미터 개념이\n",
    "매우 중요하다.\n",
    ":::"
   ]
  },
  {
   "cell_type": "markdown",
   "metadata": {},
   "source": [
    "**메서드 호출**"
   ]
  },
  {
   "cell_type": "markdown",
   "metadata": {
    "id": "yb887ulNX04q"
   },
   "source": [
    "특정 객체의 메서드를 호출하는 방식도 기본적으로 동일하다.\n",
    "다만, 객체와 메서드를 함께 이용한다.\n",
    "예를 들어, 아래 코드는 리스트에 항목을 추가하는 `append()` 라는\n",
    "리스트 메서드의 활용법을 보여준다."
   ]
  },
  {
   "cell_type": "code",
   "execution_count": 13,
   "metadata": {
    "executionInfo": {
     "elapsed": 1622,
     "status": "ok",
     "timestamp": 1615199854447,
     "user": {
      "displayName": "",
      "photoUrl": "",
      "userId": ""
     },
     "user_tz": -540
    },
    "id": "lMUdufMJX04q"
   },
   "outputs": [
    {
     "name": "stdout",
     "output_type": "stream",
     "text": [
      "[1, 2, 3, 4]\n"
     ]
    }
   ],
   "source": [
    "x = [1, 2, 3]\n",
    "x.append(4)\n",
    "print(x)"
   ]
  },
  {
   "cell_type": "markdown",
   "metadata": {
    "id": "yVO3L5iMX04r"
   },
   "source": [
    "**함수 인자 종류**"
   ]
  },
  {
   "cell_type": "markdown",
   "metadata": {
    "id": "6EN0UetrX04r"
   },
   "source": [
    "파이썬 함수의 인자는 두 종류로 나뉜다. \n",
    "\n",
    "* **위치 인자**<font size='2'>positional argments</font>: 인자를 지정된 위치에 사용해야 함.\n",
    "* **키워드 인자**<font size='2'>keyword arguments</font>: 키워드와 함께 지정되는 인자. 해당 인자의 기본값을 미리 지정한 후에\n",
    "    상황에 따라 다른 인자를 사용하는 것을 허용하고자 할 때 사용하는 인자.\n",
    "    위치 인자를 받는 매개 변수는 키워드 인자를 받는 키워드 매개 변수보다\n",
    "    먼저 선언되어야 한다."
   ]
  },
  {
   "cell_type": "markdown",
   "metadata": {},
   "source": [
    "`print()` 함수를 이용하여 위치 인자와 키워드 인자를 살펴보자.\n",
    "`print()` 함수의 인자의 종류를 확인하기 위해 `help()` 함수를 이용한다.\n",
    "`help()` 함수는 지정된 값에 대한 정보를 알려준다."
   ]
  },
  {
   "cell_type": "code",
   "execution_count": 14,
   "metadata": {},
   "outputs": [
    {
     "name": "stdout",
     "output_type": "stream",
     "text": [
      "Help on built-in function print in module builtins:\n",
      "\n",
      "print(...)\n",
      "    print(value, ..., sep=' ', end='\\n', file=sys.stdout, flush=False)\n",
      "    \n",
      "    Prints the values to a stream, or to sys.stdout by default.\n",
      "    Optional keyword arguments:\n",
      "    file:  a file-like object (stream); defaults to the current sys.stdout.\n",
      "    sep:   string inserted between values, default a space.\n",
      "    end:   string appended after the last value, default a newline.\n",
      "    flush: whether to forcibly flush the stream.\n",
      "\n"
     ]
    }
   ],
   "source": [
    "help(print)"
   ]
  },
  {
   "cell_type": "markdown",
   "metadata": {},
   "source": [
    "위 정보에 의하면 `print()` 함수는 `sep=' '`, `end='\\n'`, `file=sys.stdout`, `flush=False` 등 총 4개의\n",
    "키워드 인자를 갖는다.\n",
    "반면에 `value, ...` 로 표시된 부분은 최소 1 개 이상의 위치 인자가 사용되어야 함을 의미한다."
   ]
  },
  {
   "cell_type": "markdown",
   "metadata": {},
   "source": [
    "예를 들어, 아래 코드는 출력하려는 3 개의 값만 위치 인자로 지정하였다."
   ]
  },
  {
   "cell_type": "code",
   "execution_count": 3,
   "metadata": {
    "colab": {
     "base_uri": "https://localhost:8080/"
    },
    "executionInfo": {
     "elapsed": 1602,
     "status": "ok",
     "timestamp": 1615199854448,
     "user": {
      "displayName": "",
      "photoUrl": "",
      "userId": ""
     },
     "user_tz": -540
    },
    "id": "1bFrIY8JX04r",
    "outputId": "087d46d5-c04d-4aa7-8706-c9157c63cca0"
   },
   "outputs": [
    {
     "name": "stdout",
     "output_type": "stream",
     "text": [
      "1 2 3\n"
     ]
    }
   ],
   "source": [
    "print(1, 2, 3)"
   ]
  },
  {
   "cell_type": "markdown",
   "metadata": {
    "id": "xHRKlZxEX04r"
   },
   "source": [
    "`sep` 키워드 매개 변수는 2 개 이상의 값을 출력할 때 값들을 구분하는 방식을 지정한다.\n",
    "기본값으로 지정한 `sep=' '`의 의미는 값들을 한 개의 스페이스로 구분한다는 의미이다.\n",
    "예를 들어 두 개의 하이픈으로 값들을 분리하려면 `sep='--'`로 지정하면 된다."
   ]
  },
  {
   "cell_type": "code",
   "execution_count": 6,
   "metadata": {
    "colab": {
     "base_uri": "https://localhost:8080/"
    },
    "executionInfo": {
     "elapsed": 1593,
     "status": "ok",
     "timestamp": 1615199854449,
     "user": {
      "displayName": "",
      "photoUrl": "",
      "userId": ""
     },
     "user_tz": -540
    },
    "id": "6rX-61mQX04s",
    "outputId": "2ae5aa1f-e5e7-45b1-c1b8-8fdad7b3ea94"
   },
   "outputs": [
    {
     "name": "stdout",
     "output_type": "stream",
     "text": [
      "1--2--3\n"
     ]
    }
   ],
   "source": [
    "print(1, 2, 3, sep='--')"
   ]
  },
  {
   "cell_type": "markdown",
   "metadata": {
    "id": "T_hDVYAZX04s"
   },
   "source": [
    "`end` 키워드 매개 변수는 출력을 마친 후에 추가로 할 일을 지정한다.\n",
    "기본값 `end='\\n'`은 줄바꿈을 의미한다. "
   ]
  },
  {
   "cell_type": "code",
   "execution_count": 8,
   "metadata": {
    "colab": {
     "base_uri": "https://localhost:8080/"
    },
    "executionInfo": {
     "elapsed": 1584,
     "status": "ok",
     "timestamp": 1615199854449,
     "user": {
      "displayName": "",
      "photoUrl": "",
      "userId": ""
     },
     "user_tz": -540
    },
    "id": "8CxbeituX04s",
    "outputId": "66cf38c4-9b2f-42d5-8162-752fd210abbf"
   },
   "outputs": [
    {
     "name": "stdout",
     "output_type": "stream",
     "text": [
      "1--2--3\n",
      "4--5--6\n"
     ]
    }
   ],
   "source": [
    "print(1, 2, 3, sep='--') # 줄바꿈 자동 실행\n",
    "print(4, 5, 6, sep='--') # 줄바꿈 자동 실행"
   ]
  },
  {
   "cell_type": "markdown",
   "metadata": {
    "id": "kHL_vUqsX04t"
   },
   "source": [
    "하지만 줄바꿈을 예를 들어 쉼표 스페이스로 대체하면 다음과 같이 작동한다."
   ]
  },
  {
   "cell_type": "code",
   "execution_count": 9,
   "metadata": {
    "colab": {
     "base_uri": "https://localhost:8080/"
    },
    "executionInfo": {
     "elapsed": 1575,
     "status": "ok",
     "timestamp": 1615199854450,
     "user": {
      "displayName": "",
      "photoUrl": "",
      "userId": ""
     },
     "user_tz": -540
    },
    "id": "Q8NIHpEyX04u",
    "outputId": "4cd95db6-222a-4775-e4f9-4cb9453c48e5"
   },
   "outputs": [
    {
     "name": "stdout",
     "output_type": "stream",
     "text": [
      "1--2--3--4--5--6\n"
     ]
    }
   ],
   "source": [
    "print(1, 2, 3, sep='--', end='--')\n",
    "print(4, 5, 6, sep='--')"
   ]
  },
  {
   "cell_type": "markdown",
   "metadata": {
    "id": "qr2MiKuvX04u"
   },
   "source": [
    ":::{admonition} 구문 오류\n",
    ":class: warning\n",
    "\n",
    "반드시 위치 인자를 모두 지정한 다음에 키워드 인자를 지정해야 한다.\n",
    "그렇지 않으면 구문 오류인 `SyntaxError`가 발생한다.\n",
    "\n",
    "```python\n",
    "In [16]: print(end='--', 1)\n",
    "  File \"<ipython-input-1-8d02202c7b20>\", line 1\n",
    "    print(end='--', 1)\n",
    "                     ^\n",
    "SyntaxError: positional argument follows keyword argument\n",
    "```\n",
    ":::"
   ]
  },
  {
   "cell_type": "markdown",
   "metadata": {},
   "source": [
    "반면에 키워드 인자들 사이의 순서는 중요하지 않다."
   ]
  },
  {
   "cell_type": "code",
   "execution_count": 16,
   "metadata": {
    "colab": {
     "base_uri": "https://localhost:8080/"
    },
    "executionInfo": {
     "elapsed": 1566,
     "status": "ok",
     "timestamp": 1615199854451,
     "user": {
      "displayName": "",
      "photoUrl": "",
      "userId": ""
     },
     "user_tz": -540
    },
    "id": "mdnOKshJX04u",
    "outputId": "f6897a36-c332-45e8-8a1f-7c0538cbc6af"
   },
   "outputs": [
    {
     "name": "stdout",
     "output_type": "stream",
     "text": [
      "1--2--3--4--5--6\n"
     ]
    }
   ],
   "source": [
    "print(1, 2, 3, end='--', sep='--')\n",
    "print(4, 5, 6, sep='--')"
   ]
  },
  {
   "cell_type": "markdown",
   "metadata": {},
   "source": [
    "**키워드 인자를 사용하는 함수의 정의**"
   ]
  },
  {
   "cell_type": "markdown",
   "metadata": {},
   "source": [
    "키워드 인자는 파이썬 프로그래밍언어의 주요 특징 중에 하나이다.\n",
    "반면에 자바<font size='2'>Java</font>, C, C++ 등은 키워드 인자 기능을 지원하지 않는다.\n",
    "파이썬 이외에 자바스크립트<font size='2'>JavaScript</font>, C# 등은 키워드 인자를 지원한다.\n",
    "\n",
    "앞으로 살펴보게 될 넘파이, 판다스 라이브러리에 포함된 대다수의 함수가 키워드 인자를 활용한다.\n",
    "여기서는 키워드 인자를 사용하는 함수를 정의하는 방식을 간단한 예제를 통해 살펴본다.\n",
    "\n",
    "온라인 서점에서는 책을 정가의 10%를 할인해서 판매하는데 \n",
    "특별한 날엔 정가의 20%를 할인해주는 행사를 진행한다고 가정하자.\n",
    "이때, 일반적으로 10%의 할인을 적용하다가 행사가 진행되는 20%를 할인하는 함수를 다음과 같이 \n",
    "정의할 수 있다."
   ]
  },
  {
   "cell_type": "code",
   "execution_count": 4,
   "metadata": {},
   "outputs": [],
   "source": [
    "def book_price(price, discount=0.1):\n",
    "    return price * (1 - discount)"
   ]
  },
  {
   "cell_type": "markdown",
   "metadata": {},
   "source": [
    "`book_price()` 함수의 정의에 사용되는 두 매개 변수<font size='2'>parameter</font>는\n",
    "`price`와 `discount`이다.\n",
    "`price`는 책의 정가를 위치 인자로 받는 매개 변수이다.\n",
    "반면에 `discount`는 책값 할인율을 인자로 받는 매개 변수이며\n",
    "10% 할인이 기본 키워드 인자로 지정되었다."
   ]
  },
  {
   "cell_type": "markdown",
   "metadata": {},
   "source": [
    "이제 정가 23,000원인 책을 구입할 때 실제로 지급해야 하는 값은 10% 할인된 20,700원이다.\n",
    "\n",
    "- `book_price(23000)`: 위치 인자를 받는 `price` 매개 변수에 대한 인자 23000 만 지정한다.\n",
    "    반면에 할인율은 10% 기본값을 사용하기에 별도로 지정하지 않는다."
   ]
  },
  {
   "cell_type": "code",
   "execution_count": 18,
   "metadata": {},
   "outputs": [
    {
     "name": "stdout",
     "output_type": "stream",
     "text": [
      "책값은 10% 할인해서 20700.0원입니다.\n"
     ]
    }
   ],
   "source": [
    "discount = 0.1\n",
    "print(f\"책값은 {int(100*discount)}% 할인해서 {book_price(23000)}원입니다.\")"
   ]
  },
  {
   "cell_type": "markdown",
   "metadata": {},
   "source": [
    "이제, 예를 들어, 여름 특별 행사로 인해 20%를 할인해 준다고 가정하자.\n",
    "그러면 정가 23,000원에 대해 지불해야 하는 값은 18,400원이다.\n",
    "\n",
    "- `book_price(23000, discount=0.2)`: 할인율이 기본값인 10%가 아닌 20%를 적용해야 하기에 별도로 지정한다."
   ]
  },
  {
   "cell_type": "code",
   "execution_count": 19,
   "metadata": {},
   "outputs": [
    {
     "name": "stdout",
     "output_type": "stream",
     "text": [
      "책값은 10% 할인해서 18400.0원입니다.\n"
     ]
    }
   ],
   "source": [
    "print(f\"책값은 {int(100*discount)}% 할인해서 {book_price(23000, discount=0.2)}원입니다.\")"
   ]
  },
  {
   "cell_type": "markdown",
   "metadata": {
    "id": "LlRNR6aTX04_"
   },
   "source": [
    "## 이항 연산자와 비교문"
   ]
  },
  {
   "cell_type": "markdown",
   "metadata": {
    "id": "F7ersisvX04_"
   },
   "source": [
    "사칙연산과 비교문의 사용법은 일반적으로 알려진 방식과 동일하다."
   ]
  },
  {
   "cell_type": "code",
   "execution_count": null,
   "metadata": {
    "colab": {
     "base_uri": "https://localhost:8080/"
    },
    "executionInfo": {
     "elapsed": 1256,
     "status": "ok",
     "timestamp": 1615199885291,
     "user": {
      "displayName": "",
      "photoUrl": "",
      "userId": ""
     },
     "user_tz": -540
    },
    "id": "mmug2OC6X05A",
    "outputId": "f4bc0c8f-2333-4ab8-f845-127d7937d53b"
   },
   "outputs": [
    {
     "data": {
      "text/plain": [
       "-2"
      ]
     },
     "metadata": {},
     "output_type": "display_data"
    }
   ],
   "source": [
    "5 - 7"
   ]
  },
  {
   "cell_type": "code",
   "execution_count": null,
   "metadata": {
    "colab": {
     "base_uri": "https://localhost:8080/"
    },
    "executionInfo": {
     "elapsed": 1254,
     "status": "ok",
     "timestamp": 1615199885292,
     "user": {
      "displayName": "",
      "photoUrl": "",
      "userId": ""
     },
     "user_tz": -540
    },
    "id": "2wLhTjnQX05A",
    "outputId": "65eed862-8c3b-4e36-e950-a84856998344"
   },
   "outputs": [
    {
     "data": {
      "text/plain": [
       "33.5"
      ]
     },
     "metadata": {},
     "output_type": "display_data"
    }
   ],
   "source": [
    "12 + 21.5"
   ]
  },
  {
   "cell_type": "code",
   "execution_count": null,
   "metadata": {
    "colab": {
     "base_uri": "https://localhost:8080/"
    },
    "executionInfo": {
     "elapsed": 1250,
     "status": "ok",
     "timestamp": 1615199885292,
     "user": {
      "displayName": "",
      "photoUrl": "",
      "userId": ""
     },
     "user_tz": -540
    },
    "id": "onAkqeCnX05A",
    "outputId": "1de6dbc7-d85d-4d1f-f67c-7f92f7644455"
   },
   "outputs": [
    {
     "data": {
      "text/plain": [
       "False"
      ]
     },
     "metadata": {},
     "output_type": "display_data"
    }
   ],
   "source": [
    "5 <= 2"
   ]
  },
  {
   "cell_type": "markdown",
   "metadata": {
    "id": "VUjrLDYgX05A"
   },
   "source": [
    "부등호 연산자는 여러 개를 종합하여 사용할 수도 있다."
   ]
  },
  {
   "cell_type": "code",
   "execution_count": null,
   "metadata": {
    "colab": {
     "base_uri": "https://localhost:8080/"
    },
    "executionInfo": {
     "elapsed": 1247,
     "status": "ok",
     "timestamp": 1615199885293,
     "user": {
      "displayName": "",
      "photoUrl": "",
      "userId": ""
     },
     "user_tz": -540
    },
    "id": "MTauElIgX05A",
    "outputId": "fcee1987-6b70-4a44-a44e-de9e95f7cf6d"
   },
   "outputs": [
    {
     "data": {
      "text/plain": [
       "True"
      ]
     },
     "metadata": {},
     "output_type": "display_data"
    }
   ],
   "source": [
    "4 > 3 >= 2 > 1"
   ]
  },
  {
   "cell_type": "markdown",
   "metadata": {
    "id": "kiu-HeyqX05B"
   },
   "source": [
    "사칙연산과 비교문에 사용되는 연산자 모두 두 개의 값을 이용하여\n",
    "새로운 값을 계산하는 이항 연산자이다. \n",
    "파이썬에서 지원하는 주요 이항 연산자는 다음과 같다.\n",
    "\n",
    "| 이항 연산자 | 설명 |\n",
    "| ---: | :--- |\n",
    "| a + b | a와 b를 더한다|\n",
    "| a - b | a에서 b를 뺀다|\n",
    "| a * b | a와 b를 곱한다|\n",
    "| a / b | a를 b로 나눈다|\n",
    "| a // b | a를 b로 나눈 몫을 계산한다|\n",
    "| a ** b | a의 b승을 구한다|\n",
    "| a == b | a와 b가 동일한 값을 가리키는지 여부 판단|\n",
    "| a != b | a와 b가 서로 다른 값을 가리키는지 여부 판단|\n",
    "| a < b | a가 b보다 작은지 여부 판단|\n",
    "| a <= b | a가 b보다 작거나 같은지 여부 판단|\n",
    "| a > b | a가 b보다 큰지 여부 판단|\n",
    "| a >= b | a가 b보다 크거나 같은지 여부 판단|\n",
    "| a is b | a와 b가 동일한 위치에 저장된 값을 참조하는지 여부 판단|\n",
    "| a is not b | a와 b가 다른 위치에 저정된 값을 참조하는지 여부 판단|"
   ]
  },
  {
   "cell_type": "markdown",
   "metadata": {
    "id": "GdZxO491X05B"
   },
   "source": [
    "**`is` 대 `==`**"
   ]
  },
  {
   "cell_type": "markdown",
   "metadata": {
    "id": "p_IaRxd8X05B"
   },
   "source": [
    "세 개의 변수 `a`, `b`, `c`를 아래처럼 선언하자."
   ]
  },
  {
   "cell_type": "code",
   "execution_count": null,
   "metadata": {
    "executionInfo": {
     "elapsed": 1243,
     "status": "ok",
     "timestamp": 1615199885293,
     "user": {
      "displayName": "",
      "photoUrl": "",
      "userId": ""
     },
     "user_tz": -540
    },
    "id": "2aOiw5tHX05B"
   },
   "outputs": [],
   "source": [
    "a = [1, 2, 3]\n",
    "b = a\n",
    "c = list(a)"
   ]
  },
  {
   "cell_type": "markdown",
   "metadata": {
    "id": "wptUEeV3X05B"
   },
   "source": [
    "앞서 참조에 대해서 설명한 것처럼 각 변수가 참조하는 리스트는 아래 그림에서와 같다."
   ]
  },
  {
   "cell_type": "markdown",
   "metadata": {
    "id": "THnuoZ99X05C"
   },
   "source": [
    "<img src=\"https://github.com/codingalzi/pydata/blob/master/notebooks/images/variables-a-b-3.png?raw=1\" style=\"width:330px;\">"
   ]
  },
  {
   "cell_type": "markdown",
   "metadata": {
    "id": "Y5kaybe_X05C"
   },
   "source": [
    "먼저, `is` 연산자는 동일한 위치에 저정된 값을 참조하는지 여부를 결정한다.\n",
    "예를 들어, `a`와 `b`는 동일한 리스트를 참조한다."
   ]
  },
  {
   "cell_type": "code",
   "execution_count": null,
   "metadata": {
    "colab": {
     "base_uri": "https://localhost:8080/"
    },
    "executionInfo": {
     "elapsed": 1240,
     "status": "ok",
     "timestamp": 1615199885294,
     "user": {
      "displayName": "",
      "photoUrl": "",
      "userId": ""
     },
     "user_tz": -540
    },
    "id": "sKNmOQpKX05C",
    "outputId": "f6b0a83c-d0ce-421b-edeb-a1cd1dde59d6"
   },
   "outputs": [
    {
     "data": {
      "text/plain": [
       "True"
      ]
     },
     "metadata": {},
     "output_type": "display_data"
    }
   ],
   "source": [
    "a is b"
   ]
  },
  {
   "cell_type": "markdown",
   "metadata": {
    "id": "rXATe6G-X05C"
   },
   "source": [
    "반면에 `a`와 `c `는 서로 다른 리스트를 참조한다.\n",
    "\n",
    "**참고:** `is not`은 서로 다른 위치에 저정된 값을 참조할 때 참이다."
   ]
  },
  {
   "cell_type": "code",
   "execution_count": null,
   "metadata": {
    "colab": {
     "base_uri": "https://localhost:8080/"
    },
    "executionInfo": {
     "elapsed": 1519,
     "status": "ok",
     "timestamp": 1615199885576,
     "user": {
      "displayName": "",
      "photoUrl": "",
      "userId": ""
     },
     "user_tz": -540
    },
    "id": "jrywC9xWX05C",
    "outputId": "d801abc8-5f80-4f94-8506-4fb87df3037b"
   },
   "outputs": [
    {
     "data": {
      "text/plain": [
       "False"
      ]
     },
     "metadata": {},
     "output_type": "display_data"
    }
   ],
   "source": [
    "a is c"
   ]
  },
  {
   "cell_type": "code",
   "execution_count": null,
   "metadata": {
    "colab": {
     "base_uri": "https://localhost:8080/"
    },
    "executionInfo": {
     "elapsed": 1515,
     "status": "ok",
     "timestamp": 1615199885577,
     "user": {
      "displayName": "",
      "photoUrl": "",
      "userId": ""
     },
     "user_tz": -540
    },
    "id": "GeeET_XXX05D",
    "outputId": "326e75f1-4945-41b0-df4d-1d595b26be00"
   },
   "outputs": [
    {
     "data": {
      "text/plain": [
       "True"
      ]
     },
     "metadata": {},
     "output_type": "display_data"
    }
   ],
   "source": [
    "a is not c"
   ]
  },
  {
   "cell_type": "markdown",
   "metadata": {
    "id": "UW-EGU9WX05D"
   },
   "source": [
    "반면에, `==` 연산자는 두 변수가 참조하는 값이 동일한 값인지 여부를 판단한다.\n",
    "예를 들어, 두 변수 `a`, `c`가 비록 서로 다른 위치에 저정된 값을 참조하기는 하지만\n",
    "참조된 두 값 모두 리스트 `[1, 2, 3]` 으로 동일한 값이다."
   ]
  },
  {
   "cell_type": "code",
   "execution_count": null,
   "metadata": {
    "colab": {
     "base_uri": "https://localhost:8080/"
    },
    "executionInfo": {
     "elapsed": 1511,
     "status": "ok",
     "timestamp": 1615199885577,
     "user": {
      "displayName": "",
      "photoUrl": "",
      "userId": ""
     },
     "user_tz": -540
    },
    "id": "My90zs-GX05F",
    "outputId": "c443d6cb-e547-4232-bc62-debb633a309d"
   },
   "outputs": [
    {
     "data": {
      "text/plain": [
       "True"
      ]
     },
     "metadata": {},
     "output_type": "display_data"
    }
   ],
   "source": [
    "a == c"
   ]
  },
  {
   "cell_type": "markdown",
   "metadata": {
    "id": "6W7sL9_jX05F"
   },
   "source": [
    "아래는 당연히 성립한다."
   ]
  },
  {
   "cell_type": "code",
   "execution_count": null,
   "metadata": {
    "colab": {
     "base_uri": "https://localhost:8080/"
    },
    "executionInfo": {
     "elapsed": 1508,
     "status": "ok",
     "timestamp": 1615199885578,
     "user": {
      "displayName": "",
      "photoUrl": "",
      "userId": ""
     },
     "user_tz": -540
    },
    "id": "BanppZhQX05F",
    "outputId": "afc7c39a-ca33-47b3-826a-127e15a3c4a4"
   },
   "outputs": [
    {
     "data": {
      "text/plain": [
       "True"
      ]
     },
     "metadata": {},
     "output_type": "display_data"
    }
   ],
   "source": [
    "a == b"
   ]
  },
  {
   "cell_type": "markdown",
   "metadata": {
    "id": "qiGGvRgPX05G"
   },
   "source": [
    "`!=` 는 `==`와 반대로 작동한다."
   ]
  },
  {
   "cell_type": "code",
   "execution_count": null,
   "metadata": {
    "colab": {
     "base_uri": "https://localhost:8080/"
    },
    "executionInfo": {
     "elapsed": 1505,
     "status": "ok",
     "timestamp": 1615199885578,
     "user": {
      "displayName": "",
      "photoUrl": "",
      "userId": ""
     },
     "user_tz": -540
    },
    "id": "VOnku_CGX05G",
    "outputId": "6e74b58a-eb43-4748-c90d-916a39b6f5f8"
   },
   "outputs": [
    {
     "data": {
      "text/plain": [
       "False"
      ]
     },
     "metadata": {},
     "output_type": "display_data"
    }
   ],
   "source": [
    "a != c"
   ]
  },
  {
   "cell_type": "code",
   "execution_count": null,
   "metadata": {
    "colab": {
     "base_uri": "https://localhost:8080/"
    },
    "executionInfo": {
     "elapsed": 1502,
     "status": "ok",
     "timestamp": 1615199885579,
     "user": {
      "displayName": "",
      "photoUrl": "",
      "userId": ""
     },
     "user_tz": -540
    },
    "id": "B-VRboviX05G",
    "outputId": "25416bda-8f01-4424-8cd1-70c577e19821"
   },
   "outputs": [
    {
     "data": {
      "text/plain": [
       "False"
      ]
     },
     "metadata": {},
     "output_type": "display_data"
    }
   ],
   "source": [
    "a != b"
   ]
  },
  {
   "cell_type": "markdown",
   "metadata": {
    "id": "4m5kq2zkX05G"
   },
   "source": [
    ":::{admonition} 기타 연산자\n",
    ":class: info\n",
    "\n",
    "앞서 언급된 산술 연산자 이외에 논리 연산자, 비트 연산자가 사용된다.\n",
    "논리 연산자는 아래에서 좀 더 살펴볼 예정이지만 비트 연산자는 여기서는 다루지 않는다.\n",
    "비트 연산에 대한 기초 지식은 \n",
    "[파이썬 코딩도장: 비트 연산자 사용하기](https://dojang.io/mod/page/view.php?id=2460)에서 확인할 수 있다.\n",
    ":::"
   ]
  },
  {
   "cell_type": "markdown",
   "metadata": {},
   "source": [
    "## 객체와 자료형"
   ]
  },
  {
   "cell_type": "markdown",
   "metadata": {},
   "source": [
    "**객체**"
   ]
  },
  {
   "cell_type": "markdown",
   "metadata": {
    "id": "BqfHI704X04m"
   },
   "source": [
    "파이썬이 다루는 대상(값)은 모두 **객체**<font size='2'>object</font>,\n",
    "즉 특정 클래스의 인스턴스다.\n",
    "따라서 값과 관련된 적절한 메서드<font size='2'>methods</font>를 활용할 수 있어야 한다.\n",
    "앞으로 문자열, 리스트, 넘파이 어레이, 판다스 데이터프레임 등의 메서드를 적절하게\n",
    "활용하는 방법을 살펴본다."
   ]
  },
  {
   "cell_type": "markdown",
   "metadata": {
    "id": "cQ-j2xyHX043"
   },
   "source": [
    "**객체의 속성과 메서드**"
   ]
  },
  {
   "cell_type": "markdown",
   "metadata": {
    "id": "B-kbP_XxX043"
   },
   "source": [
    "모든 객체는 **속성**<font size='2'>attributes</font>과 **메서드**<font size='2'>methods</font>를 갖는다.\n",
    "\n",
    "* 속성: 객체 안에 포함된 값 또는 해당 값에 대한 정보\n",
    "* 메서트: 객체 안에 포함된 값을 조작하는 함수"
   ]
  },
  {
   "cell_type": "markdown",
   "metadata": {
    "id": "KYuCNzYJX043"
   },
   "source": [
    "객체 이름 바로 뒤에 마침표를 작성한 후에 <kbd>Tab</kbd> 키를 이용하면 주어진 객체의 모든 속성과 메서드를 확인할 수 있다."
   ]
  },
  {
   "cell_type": "markdown",
   "metadata": {
    "id": "VwnkPhlTX043"
   },
   "source": [
    "```python\n",
    "In [1]: a = 'foo'\n",
    "\n",
    "In [2]: a.<Tab>\n",
    "a.capitalize  a.format      a.isupper     a.rindex      a.strip\n",
    "a.center      a.index       a.join        a.rjust       a.swapcase\n",
    "a.count       a.isalnum     a.ljust       a.rpartition  a.title\n",
    "a.decode      a.isalpha     a.lower       a.rsplit      a.translate\n",
    "a.encode      a.isdigit     a.lstrip      a.rstrip      a.upper\n",
    "a.endswith    a.islower     a.partition   a.split       a.zfill\n",
    "a.expandtabs  a.isspace     a.replace     a.splitlines\n",
    "a.find        a.istitle     a.rfind       a.startswith\n",
    "```"
   ]
  },
  {
   "cell_type": "markdown",
   "metadata": {
    "id": "igPtkOZUX043"
   },
   "source": [
    "속성과 메서드를 확인하기 위해 `getattr()` 함수를 활용할 수도 있다.\n",
    "예를 들어, 문자열의 `split()` 메서드를 확인하면 아래의 결과를 보여준다.\n",
    "즉, `split`이 문자열 자료형의 메서드임을 확인해준다."
   ]
  },
  {
   "cell_type": "code",
   "execution_count": null,
   "metadata": {
    "colab": {
     "base_uri": "https://localhost:8080/"
    },
    "executionInfo": {
     "elapsed": 1031,
     "status": "ok",
     "timestamp": 1615199884994,
     "user": {
      "displayName": "",
      "photoUrl": "",
      "userId": ""
     },
     "user_tz": -540
    },
    "id": "VAw9gPqBX043",
    "outputId": "146f8eb2-ba8e-43ab-ef35-fe0bb0bc500e"
   },
   "outputs": [
    {
     "data": {
      "text/plain": [
       "<function str.split(sep=None, maxsplit=-1)>"
      ]
     },
     "metadata": {},
     "output_type": "display_data"
    }
   ],
   "source": [
    "a = 'foo'\n",
    "\n",
    "getattr(a, 'split')"
   ]
  },
  {
   "cell_type": "markdown",
   "metadata": {},
   "source": [
    "**동적 참조**"
   ]
  },
  {
   "cell_type": "markdown",
   "metadata": {
    "id": "9pM9uZdEX04z"
   },
   "source": [
    "변수에 할당된 값은 심지어 다른 자료형의 값으로 변경될 수 있으며, \n",
    "그에 따른 자료형의 정보도 함께 변경되어 저장된다.\n",
    "이렇게 작동하는 방식을 **동적 참조**<font size='2'>dynamic reference</font>라 한다.\n",
    "\n",
    "`type()` 함수는 인자의 자료형(타입)을 확인해준다."
   ]
  },
  {
   "cell_type": "code",
   "execution_count": 16,
   "metadata": {
    "colab": {
     "base_uri": "https://localhost:8080/"
    },
    "executionInfo": {
     "elapsed": 754,
     "status": "ok",
     "timestamp": 1615199876397,
     "user": {
      "displayName": "",
      "photoUrl": "",
      "userId": ""
     },
     "user_tz": -540
    },
    "id": "RDfO3sjGX04z",
    "outputId": "a0953070-6637-4943-9a7f-19ba654a153d"
   },
   "outputs": [
    {
     "data": {
      "text/plain": [
       "str"
      ]
     },
     "execution_count": 16,
     "metadata": {},
     "output_type": "execute_result"
    }
   ],
   "source": [
    "a = 'hello'\n",
    "type(a)"
   ]
  },
  {
   "cell_type": "code",
   "execution_count": 17,
   "metadata": {
    "colab": {
     "base_uri": "https://localhost:8080/"
    },
    "executionInfo": {
     "elapsed": 1277,
     "status": "ok",
     "timestamp": 1615199876925,
     "user": {
      "displayName": "",
      "photoUrl": "",
      "userId": ""
     },
     "user_tz": -540
    },
    "id": "avHS-WpDX04z",
    "outputId": "c558c863-9349-4159-c033-6d818a24c6ce"
   },
   "outputs": [
    {
     "data": {
      "text/plain": [
       "list"
      ]
     },
     "execution_count": 17,
     "metadata": {},
     "output_type": "execute_result"
    }
   ],
   "source": [
    "a = ['h', 'e', 'l', 'l', 'o']\n",
    "type(a)"
   ]
  },
  {
   "cell_type": "markdown",
   "metadata": {
    "id": "kJoUmKPCX041"
   },
   "source": [
    "**객체의 자료형 정보 활용**"
   ]
  },
  {
   "cell_type": "markdown",
   "metadata": {
    "id": "4K_pgJSTX041"
   },
   "source": [
    "객체의 자료형에 따라 다른 일을 지정할 수도 있다.\n",
    "이를 위해 먼저 객체의 자료형이 지정된 자료형인지 확인하는 기능이 필요하다.\n",
    "예를 들어, `a`가 가리키는 값이 정수형의 값인지를 다음과 같이 확인한다."
   ]
  },
  {
   "cell_type": "code",
   "execution_count": 18,
   "metadata": {
    "colab": {
     "base_uri": "https://localhost:8080/"
    },
    "executionInfo": {
     "elapsed": 752,
     "status": "ok",
     "timestamp": 1615199884701,
     "user": {
      "displayName": "",
      "photoUrl": "",
      "userId": ""
     },
     "user_tz": -540
    },
    "id": "vcCp38GvX041",
    "outputId": "43533bed-4e98-4843-82bc-e703a7539a47"
   },
   "outputs": [
    {
     "data": {
      "text/plain": [
       "True"
      ]
     },
     "execution_count": 18,
     "metadata": {},
     "output_type": "execute_result"
    }
   ],
   "source": [
    "a = 5\n",
    "isinstance(a, int)"
   ]
  },
  {
   "cell_type": "markdown",
   "metadata": {
    "id": "IFXOTn3gX041"
   },
   "source": [
    "부동소수점의 자료형인가를 확인하려면 다음과 같이 한다."
   ]
  },
  {
   "cell_type": "code",
   "execution_count": 20,
   "metadata": {
    "colab": {
     "base_uri": "https://localhost:8080/"
    },
    "executionInfo": {
     "elapsed": 748,
     "status": "ok",
     "timestamp": 1615199884701,
     "user": {
      "displayName": "",
      "photoUrl": "",
      "userId": ""
     },
     "user_tz": -540
    },
    "id": "Aoc6r_n8X042",
    "outputId": "080f632c-865c-4892-88b1-65830debcfda"
   },
   "outputs": [
    {
     "data": {
      "text/plain": [
       "True"
      ]
     },
     "execution_count": 20,
     "metadata": {},
     "output_type": "execute_result"
    }
   ],
   "source": [
    "b = 4.5\n",
    "isinstance(b, float)"
   ]
  },
  {
   "cell_type": "markdown",
   "metadata": {
    "id": "yDR-w2l1X042"
   },
   "source": [
    "여러 자료형 중의 하나인가를 확인하려면 여러 자료형을 튜플로 작성하여 사용한다.\n",
    "예를 들어, 정수 또는 부동소수점 중의 하나의 값인가를 확인하려면 다음과 같이 한다."
   ]
  },
  {
   "cell_type": "code",
   "execution_count": 21,
   "metadata": {
    "colab": {
     "base_uri": "https://localhost:8080/"
    },
    "executionInfo": {
     "elapsed": 746,
     "status": "ok",
     "timestamp": 1615199884702,
     "user": {
      "displayName": "",
      "photoUrl": "",
      "userId": ""
     },
     "user_tz": -540
    },
    "id": "-5plAoVFX042",
    "outputId": "755ac307-51aa-4b33-e6c1-20663afbfa89"
   },
   "outputs": [
    {
     "data": {
      "text/plain": [
       "True"
      ]
     },
     "execution_count": 21,
     "metadata": {},
     "output_type": "execute_result"
    }
   ],
   "source": [
    "isinstance(a, (int, float))"
   ]
  },
  {
   "cell_type": "code",
   "execution_count": 22,
   "metadata": {
    "colab": {
     "base_uri": "https://localhost:8080/"
    },
    "executionInfo": {
     "elapsed": 1034,
     "status": "ok",
     "timestamp": 1615199884994,
     "user": {
      "displayName": "",
      "photoUrl": "",
      "userId": ""
     },
     "user_tz": -540
    },
    "id": "l4gVY_SHX042",
    "outputId": "0589bab3-4852-4466-bb1c-c10b0935c1f6"
   },
   "outputs": [
    {
     "data": {
      "text/plain": [
       "True"
      ]
     },
     "execution_count": 22,
     "metadata": {},
     "output_type": "execute_result"
    }
   ],
   "source": [
    "isinstance(b, (int, float))"
   ]
  },
  {
   "cell_type": "markdown",
   "metadata": {},
   "source": [
    "아래 코드는 정수 또는 부동소수점인지에 따라 다른 일을 수행하도록 하는 전형적인 예이다."
   ]
  },
  {
   "cell_type": "code",
   "execution_count": 27,
   "metadata": {},
   "outputs": [],
   "source": [
    "def select_type(x):\n",
    "    if isinstance(x, int):\n",
    "        return x\n",
    "    elif isinstance(x, float):\n",
    "        return int(x)\n",
    "    else:\n",
    "        return \"정수도 부동소수점도 아님!\""
   ]
  },
  {
   "cell_type": "code",
   "execution_count": 28,
   "metadata": {},
   "outputs": [
    {
     "data": {
      "text/plain": [
       "3"
      ]
     },
     "execution_count": 28,
     "metadata": {},
     "output_type": "execute_result"
    }
   ],
   "source": [
    "select_type(3)"
   ]
  },
  {
   "cell_type": "code",
   "execution_count": 29,
   "metadata": {},
   "outputs": [
    {
     "data": {
      "text/plain": [
       "3"
      ]
     },
     "execution_count": 29,
     "metadata": {},
     "output_type": "execute_result"
    }
   ],
   "source": [
    "select_type(3.14)"
   ]
  },
  {
   "cell_type": "code",
   "execution_count": 30,
   "metadata": {},
   "outputs": [
    {
     "data": {
      "text/plain": [
       "'정수도 부동소수점도 아님!'"
      ]
     },
     "execution_count": 30,
     "metadata": {},
     "output_type": "execute_result"
    }
   ],
   "source": [
    "select_type('3.14')"
   ]
  },
  {
   "cell_type": "markdown",
   "metadata": {
    "id": "qqoResVwX040"
   },
   "source": [
    "**강타입 대 약타입**"
   ]
  },
  {
   "cell_type": "markdown",
   "metadata": {
    "id": "b89XquOjX040"
   },
   "source": [
    "파이썬의 모든 값은 특정 클래스의 객체라고 하였다.\n",
    "따라서 사용되는 함수 또는 연산자에 따라 적절한 클래스의 객체를 사용하지 않으면\n",
    "실행오류가 발생할 수 있다.\n",
    "이처럼 사용되는 값의 자료형이 맞지 않을 경우 제대로 작동하지 않으면 **강타입**<font size='2'>strong types</font>라 부른다.\n",
    "\n",
    "예를 들어 문자열과 숫자는 더할 수 없다."
   ]
  },
  {
   "cell_type": "markdown",
   "metadata": {},
   "source": [
    "```python\n",
    "In [6]: '5' + 5\n",
    "---------------------------------------------------------------------------\n",
    "TypeError                                 Traceback (most recent call last)\n",
    "<ipython-input-6-4dd8efb5fac1> in <module>\n",
    "----> 1 '5' + 5\n",
    "\n",
    "TypeError: can only concatenate str (not \"int\") to str\n",
    "```"
   ]
  },
  {
   "cell_type": "markdown",
   "metadata": {
    "id": "OQPZEvoZX040"
   },
   "source": [
    "반면에, 예를 들어, 부동소수점과 정수의 나눗셈은 정수를 부동소수점으로 \n",
    "강제로 형변환을 시켜서 실행된다."
   ]
  },
  {
   "cell_type": "code",
   "execution_count": null,
   "metadata": {
    "colab": {
     "base_uri": "https://localhost:8080/"
    },
    "executionInfo": {
     "elapsed": 757,
     "status": "ok",
     "timestamp": 1615199884700,
     "user": {
      "displayName": "",
      "photoUrl": "",
      "userId": ""
     },
     "user_tz": -540
    },
    "id": "ROLdqoP1X040",
    "outputId": "c3909a55-979b-4f1d-c87a-0b6f4bfc8cb3"
   },
   "outputs": [
    {
     "data": {
      "text/plain": [
       "2.25"
      ]
     },
     "metadata": {},
     "output_type": "display_data"
    }
   ],
   "source": [
    "a = 4.5\n",
    "b = 2\n",
    "\n",
    "a / b"
   ]
  },
  {
   "cell_type": "markdown",
   "metadata": {
    "id": "tuKBDHYYX041"
   },
   "source": [
    "이렇게 작동하는 언어를 **약타입**<font size='2'>weak types</font> 언어라 부른다.\n",
    "파이썬은 기본적으로 강타입 언어이지만, 약간의 약타입을 지원하는 언어라는 의미이다."
   ]
  },
  {
   "cell_type": "markdown",
   "metadata": {
    "id": "wiOAAUrWX049"
   },
   "source": [
    "## 모듈"
   ]
  },
  {
   "cell_type": "markdown",
   "metadata": {
    "id": "V9IEXBdBX049"
   },
   "source": [
    "**모듈**(module)은 파이썬 소스코드를 담고 있는, 확장자가 `.py`인 파이썬 스크립트 파일이다."
   ]
  },
  {
   "cell_type": "markdown",
   "metadata": {},
   "source": [
    "**모듈 불러오기**"
   ]
  },
  {
   "cell_type": "markdown",
   "metadata": {},
   "source": [
    "다음 내용을 담은 모듈 `some_module.py`가 현재 주피터 노트북이 실행되고 있는 디렉토리에\n",
    "저장되어 있다고 가정하자."
   ]
  },
  {
   "cell_type": "markdown",
   "metadata": {
    "id": "gJ_zg2_EX049"
   },
   "source": [
    "```python\n",
    "PI = 3.14159\n",
    "\n",
    "def f(x):\n",
    "    return x + 2\n",
    "\n",
    "def g(a, b):\n",
    "    return a + b\n",
    "```"
   ]
  },
  {
   "cell_type": "markdown",
   "metadata": {
    "id": "DqSobztIZ6dR"
   },
   "source": [
    "아래 코드를 실행하려면 먼저 `some_module.py` 파일을 다운로드한다."
   ]
  },
  {
   "cell_type": "code",
   "execution_count": 35,
   "metadata": {
    "colab": {
     "base_uri": "https://localhost:8080/"
    },
    "executionInfo": {
     "elapsed": 1277,
     "status": "ok",
     "timestamp": 1615199885289,
     "user": {
      "displayName": "",
      "photoUrl": "",
      "userId": ""
     },
     "user_tz": -540
    },
    "id": "Zho-wkNrYIhB",
    "outputId": "96d0cbb2-77e3-4a0c-d943-302783312f73"
   },
   "outputs": [
    {
     "data": {
      "text/plain": [
       "('./some_module.py', <http.client.HTTPMessage at 0x1db8f5935b0>)"
      ]
     },
     "execution_count": 35,
     "metadata": {},
     "output_type": "execute_result"
    }
   ],
   "source": [
    "import urllib.request\n",
    "url = \"https://raw.githubusercontent.com/codingalzi/datapy/master/jupyter-book/some_module.py\"\n",
    "urllib.request.urlretrieve(url, \"./some_module.py\")"
   ]
  },
  {
   "cell_type": "markdown",
   "metadata": {
    "id": "orMSMJmcX049"
   },
   "source": [
    "모듈 `some_module`을 불러와서 그 안에 정의된 함수와 변수를 사용하려면\n",
    "다음과 같이 모듈 이름과 함께 사용한다.\n",
    "문자열에 포함된 `\\t`는 탭 키를 한 번 누른 효과를 낸다."
   ]
  },
  {
   "cell_type": "code",
   "execution_count": 39,
   "metadata": {
    "executionInfo": {
     "elapsed": 1274,
     "status": "ok",
     "timestamp": 1615199885289,
     "user": {
      "displayName": "",
      "photoUrl": "",
      "userId": ""
     },
     "user_tz": -540
    },
    "id": "ALFlwBEMX049"
   },
   "outputs": [
    {
     "name": "stdout",
     "output_type": "stream",
     "text": [
      "result:\t 7\n",
      "pi:\t 3.14159\n"
     ]
    }
   ],
   "source": [
    "import some_module\n",
    "\n",
    "result = some_module.f(5)\n",
    "pi = some_module.PI\n",
    "\n",
    "print(f\"result:\\t {result}\")\n",
    "print(f\"pi:\\t {pi}\")"
   ]
  },
  {
   "cell_type": "markdown",
   "metadata": {
    "id": "nOgtKVvSX04-"
   },
   "source": [
    "모듈에서 특정 변수와 함수만을 불러오면 모듈 이름을 사용할 필요가 없다."
   ]
  },
  {
   "cell_type": "code",
   "execution_count": 53,
   "metadata": {
    "colab": {
     "base_uri": "https://localhost:8080/"
    },
    "executionInfo": {
     "elapsed": 1267,
     "status": "ok",
     "timestamp": 1615199885290,
     "user": {
      "displayName": "",
      "photoUrl": "",
      "userId": ""
     },
     "user_tz": -540
    },
    "id": "ZCdUTd33X04-",
    "outputId": "9535591c-65ce-4f57-c8e7-50ee7b255bb8"
   },
   "outputs": [
    {
     "data": {
      "text/plain": [
       "8.14159"
      ]
     },
     "execution_count": 53,
     "metadata": {},
     "output_type": "execute_result"
    }
   ],
   "source": [
    "from some_module import g, PI\n",
    "\n",
    "g(5, PI)"
   ]
  },
  {
   "cell_type": "markdown",
   "metadata": {},
   "source": [
    "**모듈 별칭**"
   ]
  },
  {
   "cell_type": "markdown",
   "metadata": {
    "id": "QaZSI9CCX04-"
   },
   "source": [
    "모듈에 별칭을 주려면 `as` 예약어를 사용하여 지정한다."
   ]
  },
  {
   "cell_type": "code",
   "execution_count": 54,
   "metadata": {
    "colab": {
     "base_uri": "https://localhost:8080/"
    },
    "executionInfo": {
     "elapsed": 1265,
     "status": "ok",
     "timestamp": 1615199885291,
     "user": {
      "displayName": "",
      "photoUrl": "",
      "userId": ""
     },
     "user_tz": -540
    },
    "id": "SGjkjE5NX04-",
    "outputId": "21f8e9cf-851d-4a8f-f845-bfbcfef85cb1"
   },
   "outputs": [
    {
     "data": {
      "text/plain": [
       "5.14159"
      ]
     },
     "execution_count": 54,
     "metadata": {},
     "output_type": "execute_result"
    }
   ],
   "source": [
    "import some_module as sm\n",
    "\n",
    "sm.f(pi)"
   ]
  },
  {
   "cell_type": "markdown",
   "metadata": {
    "id": "MxjkpNv7X04_"
   },
   "source": [
    "함수 또는 변수만 따로 불러올 때에서 별칭을 줄 수 있다. \n",
    "역시 `as` 예약어를 이용한다."
   ]
  },
  {
   "cell_type": "code",
   "execution_count": 55,
   "metadata": {
    "colab": {
     "base_uri": "https://localhost:8080/"
    },
    "executionInfo": {
     "elapsed": 1261,
     "status": "ok",
     "timestamp": 1615199885291,
     "user": {
      "displayName": "",
      "photoUrl": "",
      "userId": ""
     },
     "user_tz": -540
    },
    "id": "K-xZfoOYX04_",
    "outputId": "ce3f26f8-7640-43c6-ca0b-6cd8ff3a9ba7"
   },
   "outputs": [
    {
     "data": {
      "text/plain": [
       "12.283180000000002"
      ]
     },
     "execution_count": 55,
     "metadata": {},
     "output_type": "execute_result"
    }
   ],
   "source": [
    "from some_module import PI as pi, g as gf\n",
    "\n",
    "gf(6, pi) + pi"
   ]
  },
  {
   "cell_type": "markdown",
   "metadata": {},
   "source": [
    "앞으로 많이 활용할 `numpy`, `pandas`, `matplotlib` 패키지의 `pyplot` 모듈은\n",
    "관용적으로 사용되는 별칭이 있다."
   ]
  },
  {
   "cell_type": "code",
   "execution_count": 40,
   "metadata": {},
   "outputs": [],
   "source": [
    "import numpy as np\n",
    "import pandas as pd\n",
    "import matplotlib.pyplot as plt"
   ]
  },
  {
   "cell_type": "markdown",
   "metadata": {},
   "source": [
    ":::{admonition} 모듈, 패키지, 라이브러리, 프레임워크\n",
    ":class: info\n",
    "\n",
    "하나의 모듈이 독립적으로 제공되기도 하지만 다른 모듈과 함께 하나의 모음집으로 제공되기도 한다.\n",
    "모음의 크기와 용도에 따라 패키지, 라이브러리, 프레임워크 등 다양한 이름으로 불린다.\n",
    "보다 자세한 내용은 [파이썬 프로그래밍 기초: 모듈](https://codingalzi.github.io/pybook/modules.html)을 참고한다.\n",
    ":::"
   ]
  },
  {
   "cell_type": "markdown",
   "metadata": {},
   "source": [
    "## 불변 객체 대 가변 객체"
   ]
  },
  {
   "cell_type": "markdown",
   "metadata": {
    "id": "EjfVxk49X05H"
   },
   "source": [
    "**가변 객체**"
   ]
  },
  {
   "cell_type": "markdown",
   "metadata": {
    "id": "gG4yYjDfX05H"
   },
   "source": [
    "리스트, 사전, 넘파이 어레이 등은 항복 변경, 추가, 삭제 등이 가능한<font size>mutable</font> 자료형이다.\n",
    "\n",
    "예를 들어, 리스트의 항목을 교체할 수 있다."
   ]
  },
  {
   "cell_type": "code",
   "execution_count": null,
   "metadata": {
    "colab": {
     "base_uri": "https://localhost:8080/"
    },
    "executionInfo": {
     "elapsed": 685,
     "status": "ok",
     "timestamp": 1615199896832,
     "user": {
      "displayName": "",
      "photoUrl": "",
      "userId": ""
     },
     "user_tz": -540
    },
    "id": "iqLAUD27X05H",
    "outputId": "81e1eeb4-f11d-4837-f5a8-b1549006bf99"
   },
   "outputs": [
    {
     "data": {
      "text/plain": [
       "['foo', 2, (3, 4)]"
      ]
     },
     "metadata": {},
     "output_type": "display_data"
    }
   ],
   "source": [
    "a_list = ['foo', 2, [4, 5]]\n",
    "a_list[2] = (3, 4)\n",
    "\n",
    "a_list"
   ]
  },
  {
   "cell_type": "markdown",
   "metadata": {
    "id": "oVIOcvPxX05H"
   },
   "source": [
    "리스트에 새로운 항목을 추가할 수도 있다."
   ]
  },
  {
   "cell_type": "code",
   "execution_count": null,
   "metadata": {
    "colab": {
     "base_uri": "https://localhost:8080/"
    },
    "executionInfo": {
     "elapsed": 567,
     "status": "ok",
     "timestamp": 1615199900345,
     "user": {
      "displayName": "",
      "photoUrl": "",
      "userId": ""
     },
     "user_tz": -540
    },
    "id": "K-bhCVXrX05H",
    "outputId": "98a37c24-5a1a-479e-80da-7a5df7c90738"
   },
   "outputs": [
    {
     "data": {
      "text/plain": [
       "['foo', 2, (3, 4), 'four']"
      ]
     },
     "metadata": {},
     "output_type": "display_data"
    }
   ],
   "source": [
    "a_list.append('four')\n",
    "\n",
    "a_list"
   ]
  },
  {
   "cell_type": "markdown",
   "metadata": {
    "id": "EjfVxk49X05H"
   },
   "source": [
    "**불변 객체**"
   ]
  },
  {
   "cell_type": "markdown",
   "metadata": {
    "id": "Vr_2RJdFX05I"
   },
   "source": [
    "반면에 튜플은 항목 변경, 추가, 삭제 등이 절대로 불가능<font size>immutable</font>하다."
   ]
  },
  {
   "cell_type": "markdown",
   "metadata": {},
   "source": [
    "```python\n",
    "In [2]: a_tuple = (3, 5, (4, 5))\n",
    "\n",
    "In [3]: a_tuple[1] = 'four'\n",
    "---------------------------------------------------------------------------\n",
    "TypeError                                 Traceback (most recent call last)\n",
    "<ipython-input-3-23fe12da1ba6> in <module>\n",
    "----> 1 a_tuple[1] = 'four'\n",
    "\n",
    "TypeError: 'tuple' object does not support item assignment\n",
    "```"
   ]
  },
  {
   "cell_type": "markdown",
   "metadata": {
    "id": "Vr_2RJdFX05I"
   },
   "source": [
    "문자열도 마찬가지로 어떤 변경도 허용되지 않는다."
   ]
  },
  {
   "cell_type": "markdown",
   "metadata": {},
   "source": [
    "```python\n",
    "In [4]: a_string = '123'\n",
    "\n",
    "In [5]: a_string[2]='4'\n",
    "---------------------------------------------------------------------------\n",
    "TypeError                                 Traceback (most recent call last)\n",
    "<ipython-input-5-0982fca81912> in <module>\n",
    "----> 1 a_string[2]='4'\n",
    "\n",
    "TypeError: 'str' object does not support item assignment\n",
    "```"
   ]
  }
 ],
 "metadata": {
  "colab": {
   "name": "pydata02-python-basics-1.ipynb의 사본",
   "provenance": [
    {
     "file_id": "https://github.com/codingalzi/python-data-analysis/blob/master/notebooks/pydata02-python-basics-1.ipynb",
     "timestamp": 1615199938293
    }
   ]
  },
  "kernelspec": {
   "display_name": "Python 3 (ipykernel)",
   "language": "python",
   "name": "python3"
  },
  "language_info": {
   "codemirror_mode": {
    "name": "ipython",
    "version": 3
   },
   "file_extension": ".py",
   "mimetype": "text/x-python",
   "name": "python",
   "nbconvert_exporter": "python",
   "pygments_lexer": "ipython3",
   "version": "3.11.4"
  },
  "vscode": {
   "interpreter": {
    "hash": "ad0f3c8a064f687cbf898a0868fd45ba1c7e928ac8a0404f7c241d812ddc1e76"
   }
  }
 },
 "nbformat": 4,
 "nbformat_minor": 1
}
