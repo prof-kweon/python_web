{
 "cells": [
  {
   "cell_type": "markdown",
   "metadata": {},
   "source": [
    "(sec:python_basic_4)=\n",
    "# 제어문"
   ]
  },
  {
   "cell_type": "markdown",
   "metadata": {},
   "source": [
    "프로그램 실행의 흐름을 제어하는 명령문을 소개한다.\n",
    "\n",
    "* `if` 조건문\n",
    "* `for` 반복문\n",
    "* `while` 반복문"
   ]
  },
  {
   "cell_type": "markdown",
   "metadata": {},
   "source": [
    "## `if` 조건문"
   ]
  },
  {
   "cell_type": "markdown",
   "metadata": {},
   "source": [
    "`if` 다음에 위치한 조건식이 참이면 해당 본문 불록의 코드를 실행한다."
   ]
  },
  {
   "cell_type": "code",
   "execution_count": 65,
   "metadata": {},
   "outputs": [
    {
     "name": "stdout",
     "output_type": "stream",
     "text": [
      "It's negative\n"
     ]
    }
   ],
   "source": [
    "x = -2\n",
    "\n",
    "if x < 0:\n",
    "    print(\"It's negative\")"
   ]
  },
  {
   "cell_type": "markdown",
   "metadata": {},
   "source": [
    "__주의사항:__ \"It's negative\" 문자열 안에 작은따옴표가 \n",
    "사용되기 때문에 반드시 큰따옴표로 감싸야 한다. "
   ]
  },
  {
   "cell_type": "markdown",
   "metadata": {},
   "source": [
    "조건식이 만족되지 않으면 해당 본문 블록을 건너뛴다."
   ]
  },
  {
   "cell_type": "code",
   "execution_count": 66,
   "metadata": {},
   "outputs": [
    {
     "name": "stdout",
     "output_type": "stream",
     "text": [
      "if문을 건너뛰었음!\n"
     ]
    }
   ],
   "source": [
    "x = 4\n",
    "\n",
    "if x < 0:\n",
    "    print(\"It's negative\")\n",
    "    \n",
    "print(\"if문을 건너뛰었음!\")"
   ]
  },
  {
   "cell_type": "markdown",
   "metadata": {},
   "source": [
    "경우에 따른 여러 조건을 사용할 경우 원하는 만큼의 `elif` 문을 사용하고\n",
    "마지막에 `else` 문을 한 번 사용할 수 있다. \n",
    "하지만 `else` 문이 생략될 수도 있다.\n",
    "\n",
    "위에 위치한 조건식의 만족여부부터 조사하며 한 곳에서 만족되면 나머지 부분은 무시된다."
   ]
  },
  {
   "cell_type": "code",
   "execution_count": 67,
   "metadata": {},
   "outputs": [
    {
     "name": "stdout",
     "output_type": "stream",
     "text": [
      "5 보다 작은 양수\n"
     ]
    }
   ],
   "source": [
    "if x < 0:\n",
    "    print('음수')\n",
    "elif x == 0:\n",
    "    print('숫자 0')\n",
    "elif 0 < x < 5:\n",
    "    print('5 보다 작은 양수')\n",
    "else:\n",
    "    print('5 보다 큰 양수')"
   ]
  },
  {
   "cell_type": "markdown",
   "metadata": {},
   "source": [
    "부울 연산자가 사용되는 경우에도 하나의 표현식이 참이거나 거짓이냐에 따라\n",
    "다른 표현식을 검사하거나 무시하기도 한다.\n",
    "예를 들어, `or` 연산자는 첫 표현식이 `True` 이면 다른 표현식은 검사하지 않는다.\n",
    "아래 코드에서 `a < b`가 참이기에 `c/d > 0` 은 아예 검사하지 않는다.\n",
    "하지만 `c/d > 0`을 검사한다면 오류가 발생해야 한다.\n",
    "이유는 0으로 나누는 일은 허용되지 않기 때문이다."
   ]
  },
  {
   "cell_type": "code",
   "execution_count": 68,
   "metadata": {},
   "outputs": [
    {
     "name": "stdout",
     "output_type": "stream",
     "text": [
      "오른편 표현식은 검사하지 않아요!\n"
     ]
    }
   ],
   "source": [
    "a = 5; b = 7\n",
    "c = 8; d = 0\n",
    "if a < b or c / d > 0:\n",
    "    print('오른편 표현식은 검사하지 않아요!')"
   ]
  },
  {
   "cell_type": "markdown",
   "metadata": {},
   "source": [
    "실제로 0으로 나눗셈을 시도하면 `ZeroDivisionError` 라는 오류가 발생한다."
   ]
  },
  {
   "cell_type": "markdown",
   "metadata": {},
   "source": [
    "```python\n",
    "In [13]: c / d > 0\n",
    "---------------------------------------------------------------------------\n",
    "ZeroDivisionError                         Traceback (most recent call last)\n",
    "<ipython-input-13-2fb2320cb664> in <module>\n",
    "----> 1 c / d > 0\n",
    "\n",
    "ZeroDivisionError: division by zero\n",
    "```"
   ]
  },
  {
   "cell_type": "markdown",
   "metadata": {},
   "source": [
    "### `pass` 명령문"
   ]
  },
  {
   "cell_type": "markdown",
   "metadata": {},
   "source": [
    "아무 것도 하지 않고 다음으로 넘어가도는 하는 명령문이다. \n",
    "주로 앞으로 채워야 할 부분을 명시할 때 또는\n",
    "무시해야 하는 경우를 다룰 때 사용한다.\n",
    "\n",
    "아래 코드는 x가 0일 때 할 일을 추후에 지정하도록 `pass` 명령문을 사용한다."
   ]
  },
  {
   "cell_type": "code",
   "execution_count": 1,
   "metadata": {},
   "outputs": [],
   "source": [
    "x = 0\n",
    "\n",
    "if x < 0:\n",
    "    print('negative!')\n",
    "elif x == 0:\n",
    "    # 할 일: 추후 지정\n",
    "    pass\n",
    "else:\n",
    "    print('positive!')"
   ]
  },
  {
   "cell_type": "markdown",
   "metadata": {},
   "source": [
    "## `for` 반복문"
   ]
  },
  {
   "cell_type": "markdown",
   "metadata": {},
   "source": [
    "`for` 반복문은 리스트, 튜플, 문자열과 같은 이터러블 자료형의 값에 포함된 항목을 순회하는 데에 사용된다.\n",
    "기본 사용 양식은 다음과 같다."
   ]
  },
  {
   "cell_type": "markdown",
   "metadata": {},
   "source": [
    "```python\n",
    "for item in collection:\n",
    "    # 코드 블록 (item 변수 사용 가능)\n",
    "```"
   ]
  },
  {
   "cell_type": "markdown",
   "metadata": {},
   "source": [
    "### `continue` 명령문"
   ]
  },
  {
   "cell_type": "markdown",
   "metadata": {},
   "source": [
    "`for` 또는 아래에서 소개할 `while` 반복문이 실행되는 도중에\n",
    "`continue` 명령문을 만나는 순간 현재 실행되는 코드의 실행을 멈추고\n",
    "다음 순번 항목을 대상으로 반복문을 이어간다.\n",
    "\n",
    "예를 들어, 리스트에 포함된 항목 중에서 `None`을 제외한 값들의 합을 계산할 수 있다."
   ]
  },
  {
   "cell_type": "code",
   "execution_count": 73,
   "metadata": {},
   "outputs": [
    {
     "name": "stdout",
     "output_type": "stream",
     "text": [
      "12\n"
     ]
    }
   ],
   "source": [
    "sequence = [1, 2, None, 4, None, 5]\n",
    "total = 0\n",
    "\n",
    "for value in sequence:\n",
    "    if value is None:\n",
    "        continue\n",
    "    total += value\n",
    "    \n",
    "print(total)"
   ]
  },
  {
   "cell_type": "markdown",
   "metadata": {},
   "source": [
    "### `break` 명령문"
   ]
  },
  {
   "cell_type": "markdown",
   "metadata": {},
   "source": [
    "`for` 또는 아래에서 소개할 `while` 반복문이 실행되는 도중에\n",
    "`break` 명령문을 만나는 순간 현재 실행되는 반복문 자체의 실행을 멈추고,\n",
    "다음 명령을 실행한다. \n",
    "\n",
    "예를 들어, 리스트에 포함된 항목들의 합을 계산하는 과정 중에 5를 만나는 순간 \n",
    "계산을 멈추게 하려면 다음과 같이 `break` 명령문을 이용한다."
   ]
  },
  {
   "cell_type": "code",
   "execution_count": 74,
   "metadata": {},
   "outputs": [
    {
     "name": "stdout",
     "output_type": "stream",
     "text": [
      "13\n"
     ]
    }
   ],
   "source": [
    "sequence = [1, 2, 0, 4, 6, 5, 2, 1]\n",
    "total_until_5 = 0\n",
    "\n",
    "for value in sequence:\n",
    "    if value == 5:\n",
    "        break\n",
    "    total_until_5 += value\n",
    "    \n",
    "print(total_until_5)"
   ]
  },
  {
   "cell_type": "markdown",
   "metadata": {},
   "source": [
    "`break` 명령문은 가장 안쪽에 있는 `for` 또는 `while` 반복문을 빠져나가며,\n",
    "또 다른 반복문에 의해 감싸져 있다면 해당 반복문을 이어서 실행한다.\n",
    "예를 들어, 아래 코드는 0, 1, 2, 3으로 이루어진 순서쌍들을 출력한다.\n",
    "그런데 둘째 항목이 첫째 항목보다 큰 경우는 제외시킨다."
   ]
  },
  {
   "cell_type": "code",
   "execution_count": 75,
   "metadata": {},
   "outputs": [
    {
     "name": "stdout",
     "output_type": "stream",
     "text": [
      "(0, 0)\n",
      "(1, 0)\n",
      "(1, 1)\n",
      "(2, 0)\n",
      "(2, 1)\n",
      "(2, 2)\n",
      "(3, 0)\n",
      "(3, 1)\n",
      "(3, 2)\n",
      "(3, 3)\n"
     ]
    }
   ],
   "source": [
    "for i in range(4):\n",
    "    for j in range(4):\n",
    "        if j > i:\n",
    "            break\n",
    "        print((i, j))"
   ]
  },
  {
   "cell_type": "markdown",
   "metadata": {},
   "source": [
    "리스트, 튜를 등의 항목이 또 다른 튜플, 리스트 등의 값이라면 아래와 같이 여러 개의 \n",
    "변수를 이용하여 `for` 반복문을 실행할 수 있다."
   ]
  },
  {
   "cell_type": "code",
   "execution_count": 76,
   "metadata": {},
   "outputs": [
    {
     "name": "stdout",
     "output_type": "stream",
     "text": [
      "5\n",
      "44\n",
      "119\n"
     ]
    }
   ],
   "source": [
    "an_iterator = [(1, 2, 3), (4, 5, 6), (7, 8, 9)]\n",
    "\n",
    "for a, b, c in an_iterator:\n",
    "    print(a * (b + c))"
   ]
  },
  {
   "cell_type": "markdown",
   "metadata": {},
   "source": [
    "위 코드에서 `a`, `b`, `c` 각각은 길이가 3인 튜플의 첫째, 둘째, 셋째 항목을 가리킨다. \n",
    "따라서 위 결과는 아래 계산의 결과를 보여준 것이다.\n",
    "\n",
    "```python\n",
    "1 * (2 + 3) = 5\n",
    "4 * (5 + 6) = 44\n",
    "7 * (8 + 9) = 119\n",
    "```"
   ]
  },
  {
   "cell_type": "markdown",
   "metadata": {},
   "source": [
    "## `while` 반복문"
   ]
  },
  {
   "cell_type": "markdown",
   "metadata": {},
   "source": [
    "지정된 조건이 만족되는 동안, 또는 실행 중에 `break` 명령문을 만날 때까\n",
    "동일한 코드를 반복실행 시킬 때 `while` 반복문을 사용한다.\n",
    "\n",
    "아래 코드는 256부터 시작해서 계속 반으로 나눈 값을 더하는 코드이며,\n",
    "나누어진 값이 0보다 작거나 같아지면, 또는 더한 합이 500보다 커지면 바로 실행을 멈춘다."
   ]
  },
  {
   "cell_type": "code",
   "execution_count": 77,
   "metadata": {},
   "outputs": [
    {
     "name": "stdout",
     "output_type": "stream",
     "text": [
      "504\n"
     ]
    }
   ],
   "source": [
    "x = 256\n",
    "total = 0\n",
    "\n",
    "while x > 0:\n",
    "    if total > 500:\n",
    "        break\n",
    "    total += x\n",
    "    x = x // 2\n",
    "    \n",
    "print(total)"
   ]
  }
 ],
 "metadata": {
  "kernelspec": {
   "display_name": "Python 3 (ipykernel)",
   "language": "python",
   "name": "python3"
  },
  "language_info": {
   "codemirror_mode": {
    "name": "ipython",
    "version": 3
   },
   "file_extension": ".py",
   "mimetype": "text/x-python",
   "name": "python",
   "nbconvert_exporter": "python",
   "pygments_lexer": "ipython3",
   "version": "3.11.4"
  },
  "vscode": {
   "interpreter": {
    "hash": "ad0f3c8a064f687cbf898a0868fd45ba1c7e928ac8a0404f7c241d812ddc1e76"
   }
  }
 },
 "nbformat": 4,
 "nbformat_minor": 1
}
